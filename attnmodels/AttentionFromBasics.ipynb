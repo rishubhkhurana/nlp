{
  "nbformat": 4,
  "nbformat_minor": 0,
  "metadata": {
    "colab": {
      "name": "AttentionFromBasics.ipynb",
      "provenance": [],
      "collapsed_sections": [
        "lSbxeOucc7d1",
        "2w7rNf95d6Ge",
        "cYcsqLBJdSjd",
        "UM8K1hhpjcf2",
        "O-Ax5AuDhe8Q"
      ],
      "authorship_tag": "ABX9TyM+VtiBKqJUEb2LvhKxF29Q",
      "include_colab_link": true
    },
    "kernelspec": {
      "name": "python3",
      "display_name": "Python 3"
    },
    "accelerator": "GPU"
  },
  "cells": [
    {
      "cell_type": "markdown",
      "metadata": {
        "id": "view-in-github",
        "colab_type": "text"
      },
      "source": [
        "<a href=\"https://colab.research.google.com/github/rishubhkhurana/nlp/blob/main/attnmodels/AttentionFromBasics.ipynb\" target=\"_parent\"><img src=\"https://colab.research.google.com/assets/colab-badge.svg\" alt=\"Open In Colab\"/></a>"
      ]
    },
    {
      "cell_type": "markdown",
      "metadata": {
        "id": "lSbxeOucc7d1"
      },
      "source": [
        "## Importing Libs"
      ]
    },
    {
      "cell_type": "code",
      "metadata": {
        "id": "YP--uAuWc_WB"
      },
      "source": [
        "import torch\n",
        "import torch.nn as nn\n",
        "import torch.nn.functional as F\n",
        "import torch.optim as optim\n",
        "import numpy as np\n",
        "import torchtext\n",
        "from torchtext.data import Field, BucketIterator\n",
        "from torchtext.datasets import Multi30k\n",
        "import spacy, random\n",
        "from torch.nn.utils.rnn import pad_packed_sequence, pack_padded_sequence\n",
        "import time, math"
      ],
      "execution_count": 351,
      "outputs": []
    },
    {
      "cell_type": "markdown",
      "metadata": {
        "id": "2w7rNf95d6Ge"
      },
      "source": [
        "## Book Keeping"
      ]
    },
    {
      "cell_type": "code",
      "metadata": {
        "id": "TZAiYb_5d9Ko"
      },
      "source": [
        "!python -m spacy download en > /dev/null 2>&1\n",
        "!python -m spacy download de > /dev/null 2>&1"
      ],
      "execution_count": 2,
      "outputs": []
    },
    {
      "cell_type": "markdown",
      "metadata": {
        "id": "cYcsqLBJdSjd"
      },
      "source": [
        "## Dataset and Loaders for Type 1 Model"
      ]
    },
    {
      "cell_type": "code",
      "metadata": {
        "id": "kmV-8vcYdoqQ"
      },
      "source": [
        "spacy_de = spacy.load('de')\n",
        "spacy_en = spacy.load('en')"
      ],
      "execution_count": 277,
      "outputs": []
    },
    {
      "cell_type": "code",
      "metadata": {
        "id": "-lyG04U4e0fi"
      },
      "source": [
        "def tokenize_en(text):\n",
        "    return [tok.text for tok in spacy_en.tokenizer(text)]\n",
        "def tokenize_de(text):\n",
        "    return [tok.text for tok in spacy_de.tokenizer(text)]"
      ],
      "execution_count": 278,
      "outputs": []
    },
    {
      "cell_type": "code",
      "metadata": {
        "id": "E2cl1sftdgm-"
      },
      "source": [
        "SRC = Field(tokenize=tokenize_en, lower=True, eos_token='<eos>', init_token='<sos>')\n",
        "TRG = Field(tokenize=tokenize_de, lower=True, eos_token='<eos>', init_token='<sos>')"
      ],
      "execution_count": 279,
      "outputs": []
    },
    {
      "cell_type": "code",
      "metadata": {
        "id": "ixSWSCCidVRH"
      },
      "source": [
        "train_data, val_data, test_data = Multi30k.splits(exts=('.en','.de'), fields=(SRC, TRG))"
      ],
      "execution_count": 280,
      "outputs": []
    },
    {
      "cell_type": "code",
      "metadata": {
        "id": "7dejYKZfgluI"
      },
      "source": [
        "#vars(train_data.examples[0])"
      ],
      "execution_count": 281,
      "outputs": []
    },
    {
      "cell_type": "code",
      "metadata": {
        "id": "5qDOWkIqfXVf"
      },
      "source": [
        "SRC.build_vocab(train_data, min_freq=2)\n",
        "TRG.build_vocab(train_data, min_freq=2)"
      ],
      "execution_count": 325,
      "outputs": []
    },
    {
      "cell_type": "code",
      "metadata": {
        "id": "E-iGPP2PEwXS"
      },
      "source": [
        "device = torch.device('cuda') if torch.cuda.is_available() else torch.device('cpu')"
      ],
      "execution_count": 326,
      "outputs": []
    },
    {
      "cell_type": "code",
      "metadata": {
        "id": "X6jm38aji_t5"
      },
      "source": [
        "train_dl, valid_dl, test_dl = BucketIterator.splits((train_data, val_data, test_data), batch_size = 64, device = device)"
      ],
      "execution_count": 327,
      "outputs": []
    },
    {
      "cell_type": "markdown",
      "metadata": {
        "id": "O-Ax5AuDhe8Q"
      },
      "source": [
        "## Model Type 1"
      ]
    },
    {
      "cell_type": "code",
      "metadata": {
        "id": "WwLGWkSLhf-G"
      },
      "source": [
        "class Encoder(nn.Module):\n",
        "    def __init__(self, vocab_size, embed_dims, enc_hidden_dims, dec_hidden_dims, dropout=0.1):\n",
        "        super().__init__()\n",
        "        # saving variables\n",
        "        self.hidden_dims = enc_hidden_dims\n",
        "        self.embedder = nn.Embedding(vocab_size, embed_dims)\n",
        "        self.dropout = nn.Dropout(dropout)\n",
        "        self.rnn = nn.GRU(embed_dims, enc_hidden_dims, bidirectional=True)\n",
        "        self.bridge = nn.Linear(2*enc_hidden_dims, dec_hidden_dims)\n",
        "    \n",
        "    def forward(self, src):\n",
        "        # src : [srclen, batch size]\n",
        "        embedded = self.embedder(src)\n",
        "        # embedded: [srclen, batch size, embed_dims]\n",
        "        embedded = self.dropout(embedded)\n",
        "        # pass through the rnn \n",
        "        outputs, hidden = self.rnn(embedded)\n",
        "        # outputs : [srclen, batch size, enc_hidden_dims* num_directions]\n",
        "        # hidden : [num_layers*num_directions, batch_size, enc_hidden_dims]\n",
        "        hidden = torch.cat([hidden[-2,:,:], hidden[-1,:,:]], dim = 1)\n",
        "        hidden = torch.tanh(self.bridge(hidden))\n",
        "        return outputs, hidden.unsqueeze(0)"
      ],
      "execution_count": 300,
      "outputs": []
    },
    {
      "cell_type": "code",
      "metadata": {
        "id": "QI6iizctik42"
      },
      "source": [
        "enc = Encoder(vocab_size=len(SRC.vocab), embed_dims=32, enc_hidden_dims=64, dec_hidden_dims=64)"
      ],
      "execution_count": 301,
      "outputs": []
    },
    {
      "cell_type": "code",
      "metadata": {
        "colab": {
          "base_uri": "https://localhost:8080/"
        },
        "id": "Is1bablki06W",
        "outputId": "13a3d8f9-b51f-404f-fafd-f6a613394cbe"
      },
      "source": [
        "enc"
      ],
      "execution_count": 302,
      "outputs": [
        {
          "output_type": "execute_result",
          "data": {
            "text/plain": [
              "Encoder(\n",
              "  (embedder): Embedding(5893, 32)\n",
              "  (dropout): Dropout(p=0.1, inplace=False)\n",
              "  (rnn): GRU(32, 64, bidirectional=True)\n",
              "  (bridge): Linear(in_features=128, out_features=64, bias=True)\n",
              ")"
            ]
          },
          "metadata": {
            "tags": []
          },
          "execution_count": 302
        }
      ]
    },
    {
      "cell_type": "code",
      "metadata": {
        "id": "t80a2bgOi1ST"
      },
      "source": [
        "batch = next(iter(trn_dl))"
      ],
      "execution_count": 303,
      "outputs": []
    },
    {
      "cell_type": "code",
      "metadata": {
        "colab": {
          "base_uri": "https://localhost:8080/"
        },
        "id": "aZmlwPB3jL5y",
        "outputId": "313350b3-ac3d-48fc-ee8c-8bb0e5416489"
      },
      "source": [
        "enc(batch.src)[0].shape, enc(batch.src)[1].shape"
      ],
      "execution_count": 288,
      "outputs": [
        {
          "output_type": "execute_result",
          "data": {
            "text/plain": [
              "(torch.Size([25, 64, 128]), torch.Size([1, 64, 64]))"
            ]
          },
          "metadata": {
            "tags": []
          },
          "execution_count": 288
        }
      ]
    },
    {
      "cell_type": "code",
      "metadata": {
        "id": "b5vXorJ8kaI0"
      },
      "source": [
        "class Attention(nn.Module):\n",
        "    def __init__(self, enc_hidden_dims, dec_hidden_dims):\n",
        "        super().__init__()\n",
        "        self.energymodel = nn.Linear(2*enc_hidden_dims + dec_hidden_dims, dec_hidden_dims)\n",
        "        self.valuemodel = nn.Linear(dec_hidden_dims, 1, bias=False)\n",
        "    def forward(self, hidden, enc_outputs):\n",
        "        # hidden: [batch size, dec_hidden_dims]\n",
        "        # enc_outputs: [srclen, batch size, 2*enc_hidden_dims]\n",
        "        src_len = enc_outputs.shape[0]\n",
        "        hidden = hidden.permute((1,0,2))\n",
        "        hidden = hidden.repeat(1, src_len, 1)\n",
        "        energy = torch.cat([enc_outputs.permute((1,0,2)), hidden], dim = 2)\n",
        "        # energy: [batch size, src len, 2*enc_hidden_dims + dec_hidden_dims]\n",
        "        energy = torch.tanh(self.energymodel(energy))\n",
        "        # energy : [batch size, src len, dec_hidden_dims]\n",
        "        value = self.valuemodel(energy).squeeze(2)\n",
        "        # value: [batch size, srclen]\n",
        "        return F.softmax(value, dim=1)"
      ],
      "execution_count": 289,
      "outputs": []
    },
    {
      "cell_type": "code",
      "metadata": {
        "id": "FtUUK2aOmFVl"
      },
      "source": [
        "attn = Attention(enc_hidden_dims=100, dec_hidden_dims=100)"
      ],
      "execution_count": 290,
      "outputs": []
    },
    {
      "cell_type": "code",
      "metadata": {
        "id": "DB01aC3KmOBN"
      },
      "source": [
        "hidden = torch.randn((1,32,100))\n",
        "encoder_outputs = torch.randn((22,32,200))\n",
        "values = attn(hidden, encoder_outputs)"
      ],
      "execution_count": 304,
      "outputs": []
    },
    {
      "cell_type": "code",
      "metadata": {
        "colab": {
          "base_uri": "https://localhost:8080/"
        },
        "id": "ea69DX9UHscE",
        "outputId": "80dc7bbc-988a-4f8a-d8a8-2ccc35352075"
      },
      "source": [
        "values.shape"
      ],
      "execution_count": 305,
      "outputs": [
        {
          "output_type": "execute_result",
          "data": {
            "text/plain": [
              "torch.Size([32, 22])"
            ]
          },
          "metadata": {
            "tags": []
          },
          "execution_count": 305
        }
      ]
    },
    {
      "cell_type": "code",
      "metadata": {
        "id": "XrtLz54djM_y"
      },
      "source": [
        "class Decoder(nn.Module):\n",
        "    def __init__(self, vocab_size, embed_dims, dec_hidden_dims, enc_hidden_dims, attention, dropout = 0.1):\n",
        "        super().__init__()\n",
        "        # saving variable dims\n",
        "        self.output_dims = vocab_size\n",
        "        self.hidden_dims = dec_hidden_dims\n",
        "        # embedding for decoder\n",
        "        self.embedder = nn.Embedding(vocab_size, embed_dims)\n",
        "        self.dropout = nn.Dropout(dropout)\n",
        "        # rnn for decoder, takes embeddings, attention based enc_hidden_dims, \n",
        "        self.rnn = nn.GRU((embed_dims + 2*enc_hidden_dims), dec_hidden_dims)\n",
        "        # store the attention model to be used \n",
        "        self.attn = attention\n",
        "        # classifier\n",
        "        self.classifier = nn.Linear(2*enc_hidden_dims + embed_dims + dec_hidden_dims, vocab_size)\n",
        "\n",
        "    def forward(self, decoder_input, hidden, encoder_outputs):\n",
        "        # decoder_input: [batch size]\n",
        "        # hidden: [batch size, dec_hidden_dims]\n",
        "        # encoder_outputs: [src len, batch size, 2*enc_hidden_dims]\n",
        "        decoder_input = decoder_input.unsqueeze(0)\n",
        "        # decoder_input: [1, batch size]\n",
        "        embedded = self.dropout(self.embedder(decoder_input))\n",
        "        # embedded: [1, batch size, embed_dims]\n",
        "        # walk through the attention model to compute the attention weights \n",
        "        attn_weights = self.attn(hidden, encoder_outputs)\n",
        "        # attn_weights: [batch size, src len]\n",
        "        attn_weights = attn_weights.unsqueeze(1)\n",
        "        # attn_weights: [batch size, 1, src len]\n",
        "        weighted_encoder = torch.bmm(attn_weights, encoder_outputs.permute((1,0,2)))\n",
        "        # weighted_encoder: [batch size, 1, 2*enc_hidden_dims]\n",
        "        weighted_encoder = weighted_encoder.permute((1, 0, 2))\n",
        "        # weighted_encoder: [1, batch size, 2*enc_hidden_dims]\n",
        "        # walk through the rnn \n",
        "        outputs, hidden = self.rnn(torch.cat([embedded, weighted_encoder], dim=2), hidden)\n",
        "        # outputs: [1, batch size, dec_hidden_dims], hidden: [batch size, dec_hidden_dims]\n",
        "        # walk through the classifier\n",
        "        classifier_outputs = torch.cat([embedded.squeeze(0), weighted_encoder.squeeze(0), hidden.squeeze(0)], dim = 1)\n",
        "        classifier_outputs = self.classifier(classifier_outputs)\n",
        "        # classifier_outputs: [ batch size, vocab size]\n",
        "        return classifier_outputs, hidden"
      ],
      "execution_count": 306,
      "outputs": []
    },
    {
      "cell_type": "code",
      "metadata": {
        "id": "2DUGuiT1kZJR"
      },
      "source": [
        "dec = Decoder(len(TRG.vocab), 100, 100, 100, attn)"
      ],
      "execution_count": 307,
      "outputs": []
    },
    {
      "cell_type": "code",
      "metadata": {
        "colab": {
          "base_uri": "https://localhost:8080/"
        },
        "id": "l4Z1CDYdLtaa",
        "outputId": "fe77379e-0503-48f4-f30c-773cf1ce2eb3"
      },
      "source": [
        "dec"
      ],
      "execution_count": 308,
      "outputs": [
        {
          "output_type": "execute_result",
          "data": {
            "text/plain": [
              "Decoder(\n",
              "  (embedder): Embedding(7855, 100)\n",
              "  (dropout): Dropout(p=0.1, inplace=False)\n",
              "  (rnn): GRU(300, 100)\n",
              "  (attn): Attention(\n",
              "    (energymodel): Linear(in_features=300, out_features=100, bias=True)\n",
              "    (valuemodel): Linear(in_features=100, out_features=1, bias=False)\n",
              "  )\n",
              "  (classifier): Linear(in_features=400, out_features=7855, bias=True)\n",
              ")"
            ]
          },
          "metadata": {
            "tags": []
          },
          "execution_count": 308
        }
      ]
    },
    {
      "cell_type": "code",
      "metadata": {
        "id": "6Ih-xkpcMI4R"
      },
      "source": [
        "class Seq2Seq(nn.Module):\n",
        "\n",
        "    def __init__(self, encoder, decoder, device='cuda'):\n",
        "        super().__init__()\n",
        "        self.encoder = encoder\n",
        "        self.decoder = decoder\n",
        "        self.device = device\n",
        "\n",
        "    def forward(self, src, trg, teacher_fratio = 0.5):\n",
        "        # src: [src len, batch size]\n",
        "        # trg: [trg len, batch size]\n",
        "        trglen = trg.shape[0]\n",
        "        bs = trg.shape[1]\n",
        "        vocab_size = self.decoder.output_dims\n",
        "        outputs = torch.zeros((trglen, bs, vocab_size)).to(self.device)\n",
        "        enc_outputs, hidden = self.encoder(src)\n",
        "        # enc_outputs: [srclen, batch size, enc_hidden_dims*2]\n",
        "        # hidden: [1, batch size, dec_hidden_dims]\n",
        "        decoder_inp = trg[0]\n",
        "        for t in range(1, trglen):\n",
        "            decoder_inp, hidden = self.decoder(decoder_inp, hidden, enc_outputs)\n",
        "            # decoder_inp: [batch size, vocab_size], hidden: [batch size, dec_hidden_dims]\n",
        "            # add decoder output to all the outputs tensor\n",
        "            outputs[t,:,:] = decoder_inp\n",
        "            # teacher force the input based on force ratio\n",
        "            if random.random() < teacher_fratio:\n",
        "                decoder_inp = trg[t]\n",
        "            else:\n",
        "                decoder_inp = decoder_inp.argmax(dim=1)\n",
        "        return outputs"
      ],
      "execution_count": 335,
      "outputs": []
    },
    {
      "cell_type": "code",
      "metadata": {
        "id": "pZdhywAodaSM"
      },
      "source": [
        "enc_dims = 512\n",
        "dec_dims = 512\n",
        "enc_embed_dims = 256\n",
        "dec_embed_dims = 256\n",
        "enc_dropout = 0.5\n",
        "dec_dropout = 0.5\n",
        "src_vocab_size = len(SRC.vocab)\n",
        "trg_vocab_size = len(TRG.vocab)\n"
      ],
      "execution_count": 310,
      "outputs": []
    },
    {
      "cell_type": "code",
      "metadata": {
        "id": "RpyI9Lkqdn5s"
      },
      "source": [
        "enc_model = Encoder(vocab_size=src_vocab_size, enc_hidden_dims=enc_dims, \n",
        "                    embed_dims = enc_embed_dims, dec_hidden_dims = dec_dims, dropout = enc_dropout)\n",
        "attn_model = Attention(enc_hidden_dims=enc_dims, dec_hidden_dims=dec_dims)\n",
        "dec_model = Decoder(vocab_size = trg_vocab_size, embed_dims = dec_embed_dims, dec_hidden_dims = dec_dims, \n",
        "                    enc_hidden_dims = enc_dims, dropout = dec_dropout, attention = attn_model)\n",
        "smodel = Seq2Seq(encoder = enc_model, decoder = dec_model)"
      ],
      "execution_count": 59,
      "outputs": []
    },
    {
      "cell_type": "code",
      "metadata": {
        "id": "R6jT4cNsep-2"
      },
      "source": [
        "# get batch and test all models\n",
        "batch = next(iter(trn_dl))"
      ],
      "execution_count": 54,
      "outputs": []
    },
    {
      "cell_type": "code",
      "metadata": {
        "colab": {
          "base_uri": "https://localhost:8080/"
        },
        "id": "uz-E6mNYe08e",
        "outputId": "e710e936-e6d3-4450-a035-08af8fe633f8"
      },
      "source": [
        "enc_outputs, enc_hidden = enc_model(batch.src)\n",
        "print(f\"Encoder outputs size: {enc_outputs.shape}, Encoder hidden dims: {enc_hidden.shape}\")"
      ],
      "execution_count": 55,
      "outputs": [
        {
          "output_type": "stream",
          "text": [
            "Encoder outputs size: torch.Size([26, 64, 1024]), Encoder hidden dims: torch.Size([1, 64, 512])\n"
          ],
          "name": "stdout"
        }
      ]
    },
    {
      "cell_type": "code",
      "metadata": {
        "colab": {
          "base_uri": "https://localhost:8080/"
        },
        "id": "v1mWBEm2fMO7",
        "outputId": "faf1814a-c085-49f3-f26f-8a4394a0d486"
      },
      "source": [
        "attn_outputs = attn_model(enc_hidden, enc_outputs)\n",
        "print(f\"Attention outputs size: {attn_outputs.shape}\")"
      ],
      "execution_count": 56,
      "outputs": [
        {
          "output_type": "stream",
          "text": [
            "Attention outputs size: torch.Size([64, 26])\n"
          ],
          "name": "stdout"
        }
      ]
    },
    {
      "cell_type": "code",
      "metadata": {
        "colab": {
          "base_uri": "https://localhost:8080/"
        },
        "id": "Dq5Pqv7YfxHG",
        "outputId": "64aca425-b443-42a6-dd14-532696b53420"
      },
      "source": [
        "dec_output, dec_hidden = dec_model(batch.trg[0], enc_hidden, enc_outputs)\n",
        "print(f\"Decoder outputs size: {dec_output.shape}, Decoder hidden dims: {dec_hidden.shape}\")"
      ],
      "execution_count": 61,
      "outputs": [
        {
          "output_type": "stream",
          "text": [
            "Decoder outputs size: torch.Size([64, 7855]), Decoder hidden dims: torch.Size([1, 64, 512])\n"
          ],
          "name": "stdout"
        }
      ]
    },
    {
      "cell_type": "code",
      "metadata": {
        "colab": {
          "base_uri": "https://localhost:8080/"
        },
        "id": "BNZVH5iFgSnC",
        "outputId": "7ab0c8e0-fd51-4431-cd35-39140b2612a5"
      },
      "source": [
        "seq_outputs = smodel(batch.src, batch.trg)\n",
        "print(f\"Seq 2 Seq size: {seq_outputs.shape}\")"
      ],
      "execution_count": 66,
      "outputs": [
        {
          "output_type": "stream",
          "text": [
            "Seq 2 Seq size: torch.Size([27, 64, 7855])\n"
          ],
          "name": "stdout"
        }
      ]
    },
    {
      "cell_type": "code",
      "metadata": {
        "id": "0GusXEeziQYW"
      },
      "source": [
        ""
      ],
      "execution_count": null,
      "outputs": []
    },
    {
      "cell_type": "markdown",
      "metadata": {
        "id": "4tj6if50Ax1I"
      },
      "source": [
        "## Training Utils Type 1"
      ]
    },
    {
      "cell_type": "code",
      "metadata": {
        "id": "XjbxPrCnAzYK"
      },
      "source": [
        "def init_weights(model):\n",
        "    for name, param in model.named_parameters():\n",
        "        if name=='weight':\n",
        "            nn.init.normal_(param.data, mean=0, std=0.01)\n",
        "        elif name=='bias':\n",
        "            nn.init.constant_(param.data, 0)\n"
      ],
      "execution_count": 271,
      "outputs": []
    },
    {
      "cell_type": "code",
      "metadata": {
        "id": "nlKHH12XBftm"
      },
      "source": [
        "def count_parameters(model):\n",
        "    total_params=0\n",
        "    for param in model.parameters():\n",
        "        total_params+=param.numel()\n",
        "    return total_params"
      ],
      "execution_count": 272,
      "outputs": []
    },
    {
      "cell_type": "code",
      "metadata": {
        "id": "uCP9bPxbBpja"
      },
      "source": [
        "def train(model, iterator, optimizer, criterion, clip):\n",
        "    \n",
        "    model.train()\n",
        "    \n",
        "    epoch_loss = 0\n",
        "    \n",
        "    for i, batch in enumerate(iterator):\n",
        "        \n",
        "        src = batch.src\n",
        "        trg = batch.trg\n",
        "        \n",
        "        optimizer.zero_grad()\n",
        "        \n",
        "        output = model(src, trg)\n",
        "        \n",
        "        #trg = [trg len, batch size]\n",
        "        #output = [trg len, batch size, output dim]\n",
        "        \n",
        "        output_dim = output.shape[-1]\n",
        "        \n",
        "        output = output[1:].view(-1, output_dim)\n",
        "        trg = trg[1:].view(-1)\n",
        "        \n",
        "        #trg = [(trg len - 1) * batch size]\n",
        "        #output = [(trg len - 1) * batch size, output dim]\n",
        "        loss = criterion(output, trg)\n",
        "        \n",
        "        loss.backward()\n",
        "        \n",
        "        torch.nn.utils.clip_grad_norm_(model.parameters(), clip)\n",
        "        \n",
        "        optimizer.step()\n",
        "        \n",
        "        epoch_loss += loss.item()\n",
        "        \n",
        "    return epoch_loss / len(iterator)"
      ],
      "execution_count": 341,
      "outputs": []
    },
    {
      "cell_type": "code",
      "metadata": {
        "id": "L7IjSab3Bx-C"
      },
      "source": [
        "def evaluate(model, iterator, criterion):\n",
        "    \n",
        "    model.eval()\n",
        "    \n",
        "    epoch_loss = 0\n",
        "    \n",
        "    with torch.no_grad():\n",
        "    \n",
        "        for i, batch in enumerate(iterator):\n",
        "\n",
        "            src = batch.src\n",
        "            trg = batch.trg\n",
        "\n",
        "            output = model(src, trg, 0) #turn off teacher forcing\n",
        "\n",
        "            #trg = [trg len, batch size]\n",
        "            #output = [trg len, batch size, output dim]\n",
        "\n",
        "            output_dim = output.shape[-1]\n",
        "            \n",
        "            output = output[1:].view(-1, output_dim)\n",
        "            trg = trg[1:].view(-1)\n",
        "\n",
        "            #trg = [(trg len - 1) * batch size]\n",
        "            #output = [(trg len - 1) * batch size, output dim]\n",
        "\n",
        "            loss = criterion(output, trg)\n",
        "\n",
        "            epoch_loss += loss.item()\n",
        "        \n",
        "    return epoch_loss / len(iterator)"
      ],
      "execution_count": 342,
      "outputs": []
    },
    {
      "cell_type": "code",
      "metadata": {
        "id": "FD9kHRxUB09l"
      },
      "source": [
        "def epoch_time(start_time, end_time):\n",
        "    elapsed_time = end_time - start_time\n",
        "    elapsed_mins = int(elapsed_time / 60)\n",
        "    elapsed_secs = int(elapsed_time - (elapsed_mins * 60))\n",
        "    return elapsed_mins, elapsed_secs"
      ],
      "execution_count": 343,
      "outputs": []
    },
    {
      "cell_type": "markdown",
      "metadata": {
        "id": "-XBChh5wB7NZ"
      },
      "source": [
        "## Training Model Type 1"
      ]
    },
    {
      "cell_type": "code",
      "metadata": {
        "id": "hSof899lDDvK"
      },
      "source": [
        "enc_dims = 512\n",
        "dec_dims = 512\n",
        "enc_embed_dims = 256\n",
        "dec_embed_dims = 256\n",
        "enc_dropout = 0.5\n",
        "dec_dropout = 0.5\n",
        "src_vocab_size = len(SRC.vocab)\n",
        "trg_vocab_size = len(TRG.vocab)"
      ],
      "execution_count": 352,
      "outputs": []
    },
    {
      "cell_type": "code",
      "metadata": {
        "id": "9z4xGRcLDYzU"
      },
      "source": [
        "device = torch.device('cuda') if torch.cuda.is_available() else torch.device('cpu')"
      ],
      "execution_count": 353,
      "outputs": []
    },
    {
      "cell_type": "code",
      "metadata": {
        "id": "lFmOdyoMDOjj"
      },
      "source": [
        "enc_model = Encoder(vocab_size=src_vocab_size, enc_hidden_dims=enc_dims, \n",
        "                    embed_dims = enc_embed_dims, dec_hidden_dims = dec_dims, dropout = enc_dropout).to(device)\n",
        "attn_model = Attention(enc_hidden_dims=enc_dims, dec_hidden_dims=dec_dims).to(device)\n",
        "dec_model = Decoder(vocab_size = trg_vocab_size, embed_dims = dec_embed_dims, dec_hidden_dims = dec_dims, \n",
        "                    enc_hidden_dims = enc_dims, dropout = dec_dropout, attention = attn_model).to(device)\n",
        "model = Seq2Seq(encoder = enc_model, decoder = dec_model, device = device).to(device)"
      ],
      "execution_count": 354,
      "outputs": []
    },
    {
      "cell_type": "code",
      "metadata": {
        "colab": {
          "base_uri": "https://localhost:8080/"
        },
        "id": "aSoHSatEEB1Y",
        "outputId": "c22d6cba-dfa0-44c9-8095-3d263dc48eeb"
      },
      "source": [
        "model.apply(init_weights)"
      ],
      "execution_count": 355,
      "outputs": [
        {
          "output_type": "execute_result",
          "data": {
            "text/plain": [
              "Seq2Seq(\n",
              "  (encoder): Encoder(\n",
              "    (embedder): Embedding(5893, 256)\n",
              "    (dropout): Dropout(p=0.5, inplace=False)\n",
              "    (rnn): GRU(256, 512, bidirectional=True)\n",
              "    (bridge): Linear(in_features=1024, out_features=512, bias=True)\n",
              "  )\n",
              "  (decoder): Decoder(\n",
              "    (embedder): Embedding(7855, 256)\n",
              "    (dropout): Dropout(p=0.5, inplace=False)\n",
              "    (rnn): GRU(1280, 512)\n",
              "    (attn): Attention(\n",
              "      (energymodel): Linear(in_features=1536, out_features=512, bias=True)\n",
              "      (valuemodel): Linear(in_features=512, out_features=1, bias=False)\n",
              "    )\n",
              "    (classifier): Linear(in_features=1792, out_features=7855, bias=True)\n",
              "  )\n",
              ")"
            ]
          },
          "metadata": {
            "tags": []
          },
          "execution_count": 355
        }
      ]
    },
    {
      "cell_type": "code",
      "metadata": {
        "colab": {
          "base_uri": "https://localhost:8080/"
        },
        "id": "kRipTGtZEFLW",
        "outputId": "0f9044ef-23dc-4b17-a393-d2eb900b3242"
      },
      "source": [
        "print(f\"Total Model parameters: {count_parameters(model):,}\")"
      ],
      "execution_count": 356,
      "outputs": [
        {
          "output_type": "stream",
          "text": [
            "Total Model parameters: 24,036,783\n"
          ],
          "name": "stdout"
        }
      ]
    },
    {
      "cell_type": "code",
      "metadata": {
        "id": "NVRx1w1TDVNc"
      },
      "source": [
        "opt = optim.Adam(model.parameters())\n",
        "criterion = nn.CrossEntropyLoss(ignore_index=pad_idx)"
      ],
      "execution_count": 357,
      "outputs": []
    },
    {
      "cell_type": "code",
      "metadata": {
        "colab": {
          "base_uri": "https://localhost:8080/"
        },
        "id": "DDYuMxFdB3KM",
        "outputId": "c49e3df7-2a8b-44a5-8525-84fcdd74f422"
      },
      "source": [
        "N_EPOCHS = 20\n",
        "CLIP = 1\n",
        "\n",
        "best_valid_loss = float('inf')\n",
        "\n",
        "for epoch in range(N_EPOCHS):\n",
        "    \n",
        "    start_time = time.time()\n",
        "    \n",
        "    train_loss = train(model, train_dl, opt, criterion, CLIP)\n",
        "    valid_loss = evaluate(model, valid_dl, criterion)\n",
        "    \n",
        "    end_time = time.time()\n",
        "    \n",
        "    epoch_mins, epoch_secs = epoch_time(start_time, end_time)\n",
        "    \n",
        "    if valid_loss < best_valid_loss:\n",
        "        best_valid_loss = valid_loss\n",
        "        torch.save(model.state_dict(), 'model_type1.pt')\n",
        "    \n",
        "    print(f'Epoch: {epoch+1:02} | Time: {epoch_mins}m {epoch_secs}s')\n",
        "    print(f'\\tTrain Loss: {train_loss:.3f} | Train PPL: {math.exp(train_loss):7.3f}')\n",
        "    print(f'\\t Val. Loss: {valid_loss:.3f} |  Val. PPL: {math.exp(valid_loss):7.3f}')"
      ],
      "execution_count": 359,
      "outputs": [
        {
          "output_type": "stream",
          "text": [
            "Epoch: 01 | Time: 3m 36s\n",
            "\tTrain Loss: 4.537 | Train PPL:  93.416\n",
            "\t Val. Loss: 4.141 |  Val. PPL:  62.892\n",
            "Epoch: 02 | Time: 3m 34s\n",
            "\tTrain Loss: 3.279 | Train PPL:  26.552\n",
            "\t Val. Loss: 3.312 |  Val. PPL:  27.450\n",
            "Epoch: 03 | Time: 3m 34s\n",
            "\tTrain Loss: 2.593 | Train PPL:  13.365\n",
            "\t Val. Loss: 3.098 |  Val. PPL:  22.152\n",
            "Epoch: 04 | Time: 3m 32s\n",
            "\tTrain Loss: 2.141 | Train PPL:   8.505\n",
            "\t Val. Loss: 3.006 |  Val. PPL:  20.210\n",
            "Epoch: 05 | Time: 3m 31s\n",
            "\tTrain Loss: 1.793 | Train PPL:   6.004\n",
            "\t Val. Loss: 3.034 |  Val. PPL:  20.772\n",
            "Epoch: 06 | Time: 3m 32s\n",
            "\tTrain Loss: 1.566 | Train PPL:   4.786\n",
            "\t Val. Loss: 3.076 |  Val. PPL:  21.680\n",
            "Epoch: 07 | Time: 3m 31s\n",
            "\tTrain Loss: 1.410 | Train PPL:   4.096\n",
            "\t Val. Loss: 3.128 |  Val. PPL:  22.821\n",
            "Epoch: 08 | Time: 3m 31s\n",
            "\tTrain Loss: 1.263 | Train PPL:   3.537\n",
            "\t Val. Loss: 3.237 |  Val. PPL:  25.449\n",
            "Epoch: 09 | Time: 3m 31s\n",
            "\tTrain Loss: 1.155 | Train PPL:   3.174\n",
            "\t Val. Loss: 3.282 |  Val. PPL:  26.642\n",
            "Epoch: 10 | Time: 3m 30s\n",
            "\tTrain Loss: 1.060 | Train PPL:   2.886\n",
            "\t Val. Loss: 3.270 |  Val. PPL:  26.299\n",
            "Epoch: 11 | Time: 3m 29s\n",
            "\tTrain Loss: 0.955 | Train PPL:   2.598\n",
            "\t Val. Loss: 3.472 |  Val. PPL:  32.194\n",
            "Epoch: 12 | Time: 3m 31s\n",
            "\tTrain Loss: 0.897 | Train PPL:   2.452\n",
            "\t Val. Loss: 3.491 |  Val. PPL:  32.826\n",
            "Epoch: 13 | Time: 3m 31s\n",
            "\tTrain Loss: 0.832 | Train PPL:   2.297\n",
            "\t Val. Loss: 3.579 |  Val. PPL:  35.831\n",
            "Epoch: 14 | Time: 3m 30s\n",
            "\tTrain Loss: 0.773 | Train PPL:   2.165\n",
            "\t Val. Loss: 3.675 |  Val. PPL:  39.429\n",
            "Epoch: 15 | Time: 3m 30s\n",
            "\tTrain Loss: 0.736 | Train PPL:   2.087\n",
            "\t Val. Loss: 3.745 |  Val. PPL:  42.288\n",
            "Epoch: 16 | Time: 3m 30s\n",
            "\tTrain Loss: 0.690 | Train PPL:   1.994\n",
            "\t Val. Loss: 3.783 |  Val. PPL:  43.927\n",
            "Epoch: 17 | Time: 3m 30s\n",
            "\tTrain Loss: 0.624 | Train PPL:   1.866\n",
            "\t Val. Loss: 4.007 |  Val. PPL:  54.962\n",
            "Epoch: 18 | Time: 3m 29s\n",
            "\tTrain Loss: 0.609 | Train PPL:   1.839\n",
            "\t Val. Loss: 3.968 |  Val. PPL:  52.892\n",
            "Epoch: 19 | Time: 3m 30s\n",
            "\tTrain Loss: 0.573 | Train PPL:   1.773\n",
            "\t Val. Loss: 4.114 |  Val. PPL:  61.206\n",
            "Epoch: 20 | Time: 3m 31s\n",
            "\tTrain Loss: 0.543 | Train PPL:   1.721\n",
            "\t Val. Loss: 4.146 |  Val. PPL:  63.196\n"
          ],
          "name": "stdout"
        }
      ]
    },
    {
      "cell_type": "code",
      "metadata": {
        "id": "uBP_9GJcB44r"
      },
      "source": [
        "batch = next(iter(train_dl))"
      ],
      "execution_count": 328,
      "outputs": []
    },
    {
      "cell_type": "code",
      "metadata": {
        "id": "MXFkRwUoFJm1"
      },
      "source": [
        ""
      ],
      "execution_count": null,
      "outputs": []
    }
  ]
}