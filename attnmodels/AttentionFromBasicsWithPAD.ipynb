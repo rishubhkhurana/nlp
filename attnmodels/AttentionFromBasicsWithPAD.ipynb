{
  "nbformat": 4,
  "nbformat_minor": 0,
  "metadata": {
    "colab": {
      "name": "AttentionFromBasicsWithPAD.ipynb",
      "provenance": [],
      "collapsed_sections": [
        "lSbxeOucc7d1",
        "2w7rNf95d6Ge",
        "cYcsqLBJdSjd",
        "UM8K1hhpjcf2",
        "O-Ax5AuDhe8Q"
      ],
      "authorship_tag": "ABX9TyPGL4+6EUb8gTaM61BJ80qJ",
      "include_colab_link": true
    },
    "kernelspec": {
      "name": "python3",
      "display_name": "Python 3"
    },
    "accelerator": "GPU"
  },
  "cells": [
    {
      "cell_type": "markdown",
      "metadata": {
        "id": "view-in-github",
        "colab_type": "text"
      },
      "source": [
        "<a href=\"https://colab.research.google.com/github/rishubhkhurana/nlp/blob/main/attnmodels/AttentionFromBasicsWithPAD.ipynb\" target=\"_parent\"><img src=\"https://colab.research.google.com/assets/colab-badge.svg\" alt=\"Open In Colab\"/></a>"
      ]
    },
    {
      "cell_type": "markdown",
      "metadata": {
        "id": "lSbxeOucc7d1"
      },
      "source": [
        "## Importing Libs"
      ]
    },
    {
      "cell_type": "code",
      "metadata": {
        "id": "YP--uAuWc_WB"
      },
      "source": [
        "import torch\n",
        "import torch.nn as nn\n",
        "import torch.nn.functional as F\n",
        "import torch.optim as optim\n",
        "import numpy as np\n",
        "import torchtext\n",
        "from torchtext.data import Field, BucketIterator\n",
        "from torchtext.datasets import Multi30k\n",
        "import spacy, random\n",
        "from torch.nn.utils.rnn import pad_packed_sequence, pack_padded_sequence\n",
        "import time, math"
      ],
      "execution_count": 69,
      "outputs": []
    },
    {
      "cell_type": "markdown",
      "metadata": {
        "id": "2w7rNf95d6Ge"
      },
      "source": [
        "## Book Keeping"
      ]
    },
    {
      "cell_type": "code",
      "metadata": {
        "id": "TZAiYb_5d9Ko"
      },
      "source": [
        "!python -m spacy download en > /dev/null 2>&1\n",
        "!python -m spacy download de > /dev/null 2>&1"
      ],
      "execution_count": 2,
      "outputs": []
    },
    {
      "cell_type": "markdown",
      "metadata": {
        "id": "UM8K1hhpjcf2"
      },
      "source": [
        "## Dataset and Dataloders "
      ]
    },
    {
      "cell_type": "code",
      "metadata": {
        "id": "3zYAWHhCG34R"
      },
      "source": [
        "spacy_de = spacy.load('de')\n",
        "spacy_en = spacy.load('en')"
      ],
      "execution_count": 3,
      "outputs": []
    },
    {
      "cell_type": "code",
      "metadata": {
        "id": "rvYN58Z0G9og"
      },
      "source": [
        "def tokenize_en(text):\n",
        "    return [tok.text for tok in spacy_en.tokenizer(text)]\n",
        "def tokenize_de(text):\n",
        "    return [tok.text for tok in spacy_de.tokenizer(text)]"
      ],
      "execution_count": 4,
      "outputs": []
    },
    {
      "cell_type": "code",
      "metadata": {
        "id": "QM2VGbmAjgzD"
      },
      "source": [
        "SRC = Field(tokenize=tokenize_en, init_token='<sos>', eos_token='<eos>', lower=True, include_lengths=True)\n",
        "TRG = Field(tokenize=tokenize_de, init_token='<sos>', eos_token='<eos>', lower=True, include_lengths=True)"
      ],
      "execution_count": 5,
      "outputs": []
    },
    {
      "cell_type": "code",
      "metadata": {
        "id": "QycVffmzj1Ym",
        "colab": {
          "base_uri": "https://localhost:8080/"
        },
        "outputId": "8e422e30-20f2-4bd9-bb70-1d3dca5e29ce"
      },
      "source": [
        "trn_data, val_data, test_data = Multi30k.splits(exts=('.en', '.de'), fields =(SRC, TRG))"
      ],
      "execution_count": 9,
      "outputs": [
        {
          "output_type": "stream",
          "text": [
            "downloading training.tar.gz\n"
          ],
          "name": "stdout"
        },
        {
          "output_type": "stream",
          "text": [
            "training.tar.gz: 100%|██████████| 1.21M/1.21M [00:01<00:00, 955kB/s]\n"
          ],
          "name": "stderr"
        },
        {
          "output_type": "stream",
          "text": [
            "downloading validation.tar.gz\n"
          ],
          "name": "stdout"
        },
        {
          "output_type": "stream",
          "text": [
            "validation.tar.gz: 100%|██████████| 46.3k/46.3k [00:00<00:00, 274kB/s]\n"
          ],
          "name": "stderr"
        },
        {
          "output_type": "stream",
          "text": [
            "downloading mmt_task1_test2016.tar.gz\n"
          ],
          "name": "stdout"
        },
        {
          "output_type": "stream",
          "text": [
            "mmt_task1_test2016.tar.gz: 100%|██████████| 66.2k/66.2k [00:00<00:00, 267kB/s]\n"
          ],
          "name": "stderr"
        }
      ]
    },
    {
      "cell_type": "code",
      "metadata": {
        "id": "WJiDbHJ1GxcZ"
      },
      "source": [
        "device = 'cuda' if torch.cuda.is_available() else 'cpu'"
      ],
      "execution_count": 10,
      "outputs": []
    },
    {
      "cell_type": "code",
      "metadata": {
        "id": "JgLO7x-EkDkC"
      },
      "source": [
        "train_dl, valid_dl, test_dl = BucketIterator.splits((trn_data, val_data, test_data), batch_size = 64, device = device)"
      ],
      "execution_count": 11,
      "outputs": []
    },
    {
      "cell_type": "code",
      "metadata": {
        "id": "BKsfuH1Ekf9q"
      },
      "source": [
        "SRC.build_vocab(trn_data, min_freq=2)\n",
        "TRG.build_vocab(trn_data, min_freq=2)"
      ],
      "execution_count": 13,
      "outputs": []
    },
    {
      "cell_type": "markdown",
      "metadata": {
        "id": "12Qg0OQ1imxf"
      },
      "source": [
        "## Model"
      ]
    },
    {
      "cell_type": "code",
      "metadata": {
        "id": "UEXCtGfNHnXk"
      },
      "source": [
        "enc_dims = 512\n",
        "dec_dims = 512\n",
        "enc_embed_dims = 256\n",
        "dec_embed_dims = 256\n",
        "enc_dropout = 0.5\n",
        "dec_dropout = 0.5\n",
        "src_vocab_size = len(SRC.vocab)\n",
        "trg_vocab_size = len(TRG.vocab)"
      ],
      "execution_count": 18,
      "outputs": []
    },
    {
      "cell_type": "code",
      "metadata": {
        "id": "qEuH1-ulHeZr"
      },
      "source": [
        "batch = next(iter(train_dl))"
      ],
      "execution_count": 19,
      "outputs": []
    },
    {
      "cell_type": "code",
      "metadata": {
        "id": "RxrKfRa2in0M"
      },
      "source": [
        "class Encoder(nn.Module):\n",
        "    def __init__(self, vocab_size, embed_dims, enc_hidden_dims, dec_hidden_dims, dropout = 0.1):\n",
        "        super().__init__()\n",
        "        self.embedder = nn.Embedding(vocab_size, embed_dims)\n",
        "        self.dropout = nn.Dropout(dropout)\n",
        "        self.rnn = nn.GRU(embed_dims, enc_hidden_dims, bidirectional = True)\n",
        "        self.bridge = nn.Linear(2*enc_hidden_dims, dec_hidden_dims)\n",
        "    def forward(self, src, src_lengths):\n",
        "        # src: [seq len, batch size]\n",
        "        # srclengths: [batch size]\n",
        "        embedded = self.dropout(self.embedder(src))\n",
        "        # src: [seq len, batch size, embed_dims]\n",
        "        # packed embedding\n",
        "        packed_outputs = pack_padded_sequence(embedded, src_lengths, enforce_sorted=False)\n",
        "        # pass through the rnn \n",
        "        packed_outputs, hidden = self.rnn(packed_outputs)\n",
        "        # hidden: [2, batch size, 2*enc_hidden_dims]\n",
        "        outputs,_ = pad_packed_sequence(packed_outputs)\n",
        "        # outputs: [src len, batch size, 2*enc_hidden_dims]\n",
        "        hidden = torch.cat([hidden[-2,:,:], hidden[-1,:,:]], dim = 1)\n",
        "        hidden = torch.tanh(self.bridge(hidden))\n",
        "        # hidden: [batch size, dec_hidden_dims]\n",
        "        return outputs, hidden.unsqueeze(0)"
      ],
      "execution_count": 75,
      "outputs": []
    },
    {
      "cell_type": "code",
      "metadata": {
        "id": "l10VCaEMrZXj"
      },
      "source": [
        "class Attention(nn.Module):\n",
        "\n",
        "    def __init__(self, enc_hidden_dims, dec_hidden_dims):\n",
        "        super().__init__()\n",
        "        self.energymodel = nn.Linear(2*enc_hidden_dims+dec_hidden_dims, dec_hidden_dims)\n",
        "        self.valuemodel = nn.Linear(dec_hidden_dims, 1, bias = False)\n",
        "\n",
        "    def forward(self, hidden, enc_outputs, mask):\n",
        "        # hidden: [1, batch size, dec_hidden_dims]\n",
        "        # enc_outputs: [src len, batch size, 2*enc_hidden_dims]\n",
        "        srclen = enc_outputs.shape[0]\n",
        "        hidden = hidden.permute((1,0,2)).repeat(1, srclen, 1)\n",
        "        # hidden: [batch size, seq len, dec_hidden_dims]\n",
        "        energy = torch.cat([enc_outputs.permute((1,0,2)), hidden], dim = 2)\n",
        "        energy = torch.tanh(self.energymodel(energy))\n",
        "        # energy: [batch size, seqlen, dec_hidden_dims]\n",
        "        values = self.valuemodel(energy).squeeze(-1)\n",
        "        # values : [batch size, seqlen]\n",
        "        values = values.masked_fill(mask, -1e10)\n",
        "        return F.softmax(values, dim = 1)"
      ],
      "execution_count": 76,
      "outputs": []
    },
    {
      "cell_type": "code",
      "metadata": {
        "id": "rvsUtfjuxcb0"
      },
      "source": [
        "class Decoder(nn.Module):\n",
        "\n",
        "    def __init__(self, vocab_size, embed_dims, enc_hidden_dims, dec_hidden_dims, attention, dropout = 0.1):\n",
        "        super().__init__()\n",
        "        self.hidden_dims = dec_hidden_dims\n",
        "        self.output_dims = vocab_size\n",
        "        self.embedder = nn.Embedding(vocab_size, embed_dims)\n",
        "        self.dropout = nn.Dropout(dropout)\n",
        "        self.rnn = nn.GRU(2*enc_hidden_dims + embed_dims, dec_hidden_dims)\n",
        "        self.attn = attention\n",
        "        self.classifier = nn.Linear(2*enc_hidden_dims + dec_hidden_dims + embed_dims, vocab_size)\n",
        "\n",
        "    def forward(self, dec_inp, hidden, enc_outputs, mask):\n",
        "        # hidden: [1, batch size, dec_hidden_dims]\n",
        "        # enc_outputs: [src len, batch size, 2*enc_hidden_dims]\n",
        "        # dec_inp: [batch size]\n",
        "        dec_inp = dec_inp.unsqueeze(0)\n",
        "        # dec_inp: [1, batch size]\n",
        "        embedded = self.dropout(self.embedder(dec_inp))\n",
        "        # embedded: [1, batch size, embed_dims]\n",
        "        weighted_attns = self.attn(hidden, enc_outputs, mask)\n",
        "        # weighted_attns: [batch size, src len]\n",
        "        weighted_attns = weighted_attns.unsqueeze(1)\n",
        "        weighted_enc_outputs = torch.bmm(weighted_attns, enc_outputs.permute((1,0,2)))\n",
        "        # weighted_enc_outputs: [batch size, 1, 2*enc_hidden_dims]\n",
        "        weighted_enc_outputs = weighted_enc_outputs.permute((1,0,2))\n",
        "        # weighted_enc_outputs: [1, batch size, 2*enc_hidden_dims]\n",
        "        outputs, hidden = self.rnn(torch.cat([weighted_enc_outputs, embedded], dim = 2), hidden)\n",
        "        # outputs: [1, batch size, ], hidden: [1, batch size, dec_hidden_dims]\n",
        "        classifier_outputs = self.classifier(torch.cat([hidden.squeeze(0), embedded.squeeze(0), weighted_enc_outputs.squeeze(0)], dim = 1))\n",
        "        \n",
        "        return classifier_outputs, hidden\n"
      ],
      "execution_count": 77,
      "outputs": []
    },
    {
      "cell_type": "code",
      "metadata": {
        "id": "g1cwOarY9tMX"
      },
      "source": [
        "class Seq2Seq(nn.Module):\n",
        "    def __init__(self, encoder, decoder, pad_idx, device = 'cuda'):\n",
        "        super().__init__()\n",
        "        self.pad_idx = pad_idx\n",
        "        self.encoder = encoder\n",
        "        self.decoder = decoder\n",
        "        self.device = device\n",
        "    def create_mask(self, src):\n",
        "        return (src.permute((1,0))==self.pad_idx)\n",
        "    def forward(self, src, trg, src_lengths, tforce_ratio = 0.5):\n",
        "        # src: [srclen, batch size]\n",
        "        # trg: [trglen, batch size]\n",
        "        # src_lengths: [batch size]\n",
        "        trglen = trg.shape[0]\n",
        "        bs = trg.shape[1]\n",
        "        vocab_size = self.decoder.output_dims\n",
        "        outputs = torch.zeros((trglen, bs, vocab_size)).to(self.device)\n",
        "        enc_outputs, hidden = self.encoder(src, src_lengths)\n",
        "        dec_inp = trg[0]\n",
        "        mask = self.create_mask(src)\n",
        "        # mask: [batch size, srclen]\n",
        "        for t in range(1, trglen):\n",
        "            dec_output, dec_hidden = self.decoder(dec_inp, hidden, enc_outputs, mask)\n",
        "            if random.random()< tforce_ratio:\n",
        "                dec_inp = trg[t]\n",
        "            else:\n",
        "                dec_inp = dec_output.argmax(dim=1)\n",
        "            outputs[t] = dec_output\n",
        "        return outputs"
      ],
      "execution_count": 78,
      "outputs": []
    },
    {
      "cell_type": "markdown",
      "metadata": {
        "id": "4tj6if50Ax1I"
      },
      "source": [
        "## Training Utils"
      ]
    },
    {
      "cell_type": "code",
      "metadata": {
        "id": "XjbxPrCnAzYK"
      },
      "source": [
        "def init_weights(model):\n",
        "    for name, param in model.named_parameters():\n",
        "        if name=='weight':\n",
        "            nn.init.normal_(param.data, mean=0, std=0.01)\n",
        "        elif name=='bias':\n",
        "            nn.init.constant_(param.data, 0)\n"
      ],
      "execution_count": 79,
      "outputs": []
    },
    {
      "cell_type": "code",
      "metadata": {
        "id": "nlKHH12XBftm"
      },
      "source": [
        "def count_parameters(model):\n",
        "    total_params=0\n",
        "    for param in model.parameters():\n",
        "        total_params+=param.numel()\n",
        "    return total_params"
      ],
      "execution_count": 80,
      "outputs": []
    },
    {
      "cell_type": "code",
      "metadata": {
        "id": "uCP9bPxbBpja"
      },
      "source": [
        "def train(model, iterator, optimizer, criterion, clip):\n",
        "    \n",
        "    model.train()\n",
        "    \n",
        "    epoch_loss = 0\n",
        "    \n",
        "    for i, batch in enumerate(iterator):\n",
        "        \n",
        "        src = batch.src[0]\n",
        "        trg = batch.trg[0]\n",
        "        srclengths = batch.src[1].to('cpu')\n",
        "        optimizer.zero_grad()\n",
        "        \n",
        "        output = model(src, trg, srclengths)\n",
        "        \n",
        "        #trg = [trg len, batch size]\n",
        "        #output = [trg len, batch size, output dim]\n",
        "        \n",
        "        output_dim = output.shape[-1]\n",
        "        \n",
        "        output = output[1:].view(-1, output_dim)\n",
        "        trg = trg[1:].view(-1)\n",
        "        \n",
        "        #trg = [(trg len - 1) * batch size]\n",
        "        #output = [(trg len - 1) * batch size, output dim]\n",
        "        loss = criterion(output, trg)\n",
        "        \n",
        "        loss.backward()\n",
        "        \n",
        "        torch.nn.utils.clip_grad_norm_(model.parameters(), clip)\n",
        "        \n",
        "        optimizer.step()\n",
        "        \n",
        "        epoch_loss += loss.item()\n",
        "        \n",
        "    return epoch_loss / len(iterator)"
      ],
      "execution_count": 81,
      "outputs": []
    },
    {
      "cell_type": "code",
      "metadata": {
        "id": "L7IjSab3Bx-C"
      },
      "source": [
        "def evaluate(model, iterator, criterion):\n",
        "    \n",
        "    model.eval()\n",
        "    \n",
        "    epoch_loss = 0\n",
        "    \n",
        "    with torch.no_grad():\n",
        "    \n",
        "        for i, batch in enumerate(iterator):\n",
        "\n",
        "            src = batch.src[0]\n",
        "            trg = batch.trg[0]\n",
        "            srclengths = batch.src[1].to('cpu')\n",
        "\n",
        "            output = model(src, trg, srclengths, tforce_ratio=0) #turn off teacher forcing\n",
        "\n",
        "            #trg = [trg len, batch size]\n",
        "            #output = [trg len, batch size, output dim]\n",
        "\n",
        "            output_dim = output.shape[-1]\n",
        "            \n",
        "            output = output[1:].view(-1, output_dim)\n",
        "            trg = trg[1:].view(-1)\n",
        "\n",
        "            #trg = [(trg len - 1) * batch size]\n",
        "            #output = [(trg len - 1) * batch size, output dim]\n",
        "\n",
        "            loss = criterion(output, trg)\n",
        "\n",
        "            epoch_loss += loss.item()\n",
        "        \n",
        "    return epoch_loss / len(iterator)"
      ],
      "execution_count": 82,
      "outputs": []
    },
    {
      "cell_type": "code",
      "metadata": {
        "id": "FD9kHRxUB09l"
      },
      "source": [
        "def epoch_time(start_time, end_time):\n",
        "    elapsed_time = end_time - start_time\n",
        "    elapsed_mins = int(elapsed_time / 60)\n",
        "    elapsed_secs = int(elapsed_time - (elapsed_mins * 60))\n",
        "    return elapsed_mins, elapsed_secs"
      ],
      "execution_count": 83,
      "outputs": []
    },
    {
      "cell_type": "markdown",
      "metadata": {
        "id": "-XBChh5wB7NZ"
      },
      "source": [
        "## Training Model "
      ]
    },
    {
      "cell_type": "code",
      "metadata": {
        "id": "hSof899lDDvK"
      },
      "source": [
        "enc_dims = 512\n",
        "dec_dims = 512\n",
        "enc_embed_dims = 256\n",
        "dec_embed_dims = 256\n",
        "enc_dropout = 0.5\n",
        "dec_dropout = 0.5\n",
        "src_vocab_size = len(SRC.vocab)\n",
        "trg_vocab_size = len(TRG.vocab)"
      ],
      "execution_count": 84,
      "outputs": []
    },
    {
      "cell_type": "code",
      "metadata": {
        "id": "CqcvAzjYH9DU"
      },
      "source": [
        "pad_idx = SRC.vocab.stoi[SRC.pad_token]"
      ],
      "execution_count": 85,
      "outputs": []
    },
    {
      "cell_type": "code",
      "metadata": {
        "id": "9z4xGRcLDYzU"
      },
      "source": [
        "device = torch.device('cuda') if torch.cuda.is_available() else torch.device('cpu')"
      ],
      "execution_count": 86,
      "outputs": []
    },
    {
      "cell_type": "code",
      "metadata": {
        "id": "lFmOdyoMDOjj"
      },
      "source": [
        "enc_model = Encoder(vocab_size=src_vocab_size, enc_hidden_dims=enc_dims, \n",
        "                    embed_dims = enc_embed_dims, dec_hidden_dims = dec_dims, dropout = enc_dropout).to(device)\n",
        "attn_model = Attention(enc_hidden_dims=enc_dims, dec_hidden_dims=dec_dims).to(device)\n",
        "dec_model = Decoder(vocab_size = trg_vocab_size, embed_dims = dec_embed_dims, dec_hidden_dims = dec_dims, \n",
        "                    enc_hidden_dims = enc_dims, dropout = dec_dropout, attention = attn_model).to(device)\n",
        "model = Seq2Seq(encoder = enc_model, decoder = dec_model, device = device, pad_idx = pad_idx).to(device)"
      ],
      "execution_count": 87,
      "outputs": []
    },
    {
      "cell_type": "code",
      "metadata": {
        "colab": {
          "base_uri": "https://localhost:8080/"
        },
        "id": "aSoHSatEEB1Y",
        "outputId": "daef3f96-e600-4bde-8f10-26d8da2354ef"
      },
      "source": [
        "model.apply(init_weights)"
      ],
      "execution_count": 88,
      "outputs": [
        {
          "output_type": "execute_result",
          "data": {
            "text/plain": [
              "Seq2Seq(\n",
              "  (encoder): Encoder(\n",
              "    (embedder): Embedding(5893, 256)\n",
              "    (dropout): Dropout(p=0.5, inplace=False)\n",
              "    (rnn): GRU(256, 512, bidirectional=True)\n",
              "    (bridge): Linear(in_features=1024, out_features=512, bias=True)\n",
              "  )\n",
              "  (decoder): Decoder(\n",
              "    (embedder): Embedding(7855, 256)\n",
              "    (dropout): Dropout(p=0.5, inplace=False)\n",
              "    (rnn): GRU(1280, 512)\n",
              "    (attn): Attention(\n",
              "      (energymodel): Linear(in_features=1536, out_features=512, bias=True)\n",
              "      (valuemodel): Linear(in_features=512, out_features=1, bias=False)\n",
              "    )\n",
              "    (classifier): Linear(in_features=1792, out_features=7855, bias=True)\n",
              "  )\n",
              ")"
            ]
          },
          "metadata": {
            "tags": []
          },
          "execution_count": 88
        }
      ]
    },
    {
      "cell_type": "code",
      "metadata": {
        "colab": {
          "base_uri": "https://localhost:8080/"
        },
        "id": "kRipTGtZEFLW",
        "outputId": "d01bd529-67a3-4287-96f0-40e32e171f53"
      },
      "source": [
        "print(f\"Total Model parameters: {count_parameters(model):,}\")"
      ],
      "execution_count": 89,
      "outputs": [
        {
          "output_type": "stream",
          "text": [
            "Total Model parameters: 24,036,783\n"
          ],
          "name": "stdout"
        }
      ]
    },
    {
      "cell_type": "code",
      "metadata": {
        "id": "NVRx1w1TDVNc"
      },
      "source": [
        "opt = optim.Adam(model.parameters())\n",
        "criterion = nn.CrossEntropyLoss(ignore_index=pad_idx)"
      ],
      "execution_count": 90,
      "outputs": []
    },
    {
      "cell_type": "code",
      "metadata": {
        "id": "DDYuMxFdB3KM",
        "colab": {
          "base_uri": "https://localhost:8080/"
        },
        "outputId": "4ee1b733-07c0-4cd0-f2b8-3f3a4c5312dd"
      },
      "source": [
        "N_EPOCHS = 20\n",
        "CLIP = 1\n",
        "\n",
        "best_valid_loss = float('inf')\n",
        "\n",
        "for epoch in range(N_EPOCHS):\n",
        "    \n",
        "    start_time = time.time()\n",
        "    \n",
        "    train_loss = train(model, train_dl, opt, criterion, CLIP)\n",
        "    valid_loss = evaluate(model, valid_dl, criterion)\n",
        "    \n",
        "    end_time = time.time()\n",
        "    \n",
        "    epoch_mins, epoch_secs = epoch_time(start_time, end_time)\n",
        "    \n",
        "    if valid_loss < best_valid_loss:\n",
        "        best_valid_loss = valid_loss\n",
        "        torch.save(model.state_dict(), 'model_type1.pt')\n",
        "    \n",
        "    print(f'Epoch: {epoch+1:02} | Time: {epoch_mins}m {epoch_secs}s')\n",
        "    print(f'\\tTrain Loss: {train_loss:.3f} | Train PPL: {math.exp(train_loss):7.3f}')\n",
        "    print(f'\\t Val. Loss: {valid_loss:.3f} |  Val. PPL: {math.exp(valid_loss):7.3f}')"
      ],
      "execution_count": null,
      "outputs": [
        {
          "output_type": "stream",
          "text": [
            "Epoch: 01 | Time: 1m 42s\n",
            "\tTrain Loss: 4.844 | Train PPL: 126.956\n",
            "\t Val. Loss: 4.571 |  Val. PPL:  96.667\n",
            "Epoch: 02 | Time: 1m 42s\n",
            "\tTrain Loss: 3.816 | Train PPL:  45.406\n",
            "\t Val. Loss: 4.003 |  Val. PPL:  54.789\n",
            "Epoch: 03 | Time: 1m 42s\n",
            "\tTrain Loss: 3.242 | Train PPL:  25.595\n",
            "\t Val. Loss: 3.791 |  Val. PPL:  44.318\n",
            "Epoch: 04 | Time: 1m 42s\n",
            "\tTrain Loss: 2.836 | Train PPL:  17.041\n",
            "\t Val. Loss: 3.754 |  Val. PPL:  42.680\n",
            "Epoch: 05 | Time: 1m 42s\n",
            "\tTrain Loss: 2.515 | Train PPL:  12.367\n",
            "\t Val. Loss: 3.726 |  Val. PPL:  41.497\n",
            "Epoch: 06 | Time: 1m 42s\n",
            "\tTrain Loss: 2.317 | Train PPL:  10.145\n",
            "\t Val. Loss: 3.765 |  Val. PPL:  43.143\n",
            "Epoch: 07 | Time: 1m 42s\n",
            "\tTrain Loss: 2.229 | Train PPL:   9.291\n",
            "\t Val. Loss: 3.740 |  Val. PPL:  42.115\n",
            "Epoch: 08 | Time: 1m 42s\n",
            "\tTrain Loss: 2.108 | Train PPL:   8.229\n",
            "\t Val. Loss: 3.780 |  Val. PPL:  43.818\n",
            "Epoch: 09 | Time: 1m 42s\n",
            "\tTrain Loss: 2.016 | Train PPL:   7.508\n",
            "\t Val. Loss: 3.822 |  Val. PPL:  45.710\n",
            "Epoch: 10 | Time: 1m 42s\n",
            "\tTrain Loss: 1.946 | Train PPL:   6.999\n",
            "\t Val. Loss: 3.843 |  Val. PPL:  46.654\n",
            "Epoch: 11 | Time: 1m 41s\n",
            "\tTrain Loss: 1.870 | Train PPL:   6.489\n",
            "\t Val. Loss: 3.884 |  Val. PPL:  48.622\n",
            "Epoch: 12 | Time: 1m 42s\n",
            "\tTrain Loss: 1.810 | Train PPL:   6.109\n",
            "\t Val. Loss: 3.939 |  Val. PPL:  51.381\n",
            "Epoch: 13 | Time: 1m 42s\n",
            "\tTrain Loss: 1.757 | Train PPL:   5.797\n",
            "\t Val. Loss: 3.954 |  Val. PPL:  52.144\n",
            "Epoch: 14 | Time: 1m 41s\n",
            "\tTrain Loss: 1.699 | Train PPL:   5.469\n",
            "\t Val. Loss: 3.990 |  Val. PPL:  54.071\n",
            "Epoch: 15 | Time: 1m 41s\n",
            "\tTrain Loss: 1.670 | Train PPL:   5.310\n",
            "\t Val. Loss: 4.041 |  Val. PPL:  56.865\n",
            "Epoch: 16 | Time: 1m 42s\n",
            "\tTrain Loss: 1.634 | Train PPL:   5.123\n",
            "\t Val. Loss: 4.056 |  Val. PPL:  57.757\n",
            "Epoch: 17 | Time: 1m 42s\n",
            "\tTrain Loss: 1.593 | Train PPL:   4.920\n",
            "\t Val. Loss: 4.073 |  Val. PPL:  58.724\n",
            "Epoch: 18 | Time: 1m 42s\n",
            "\tTrain Loss: 1.566 | Train PPL:   4.789\n",
            "\t Val. Loss: 4.160 |  Val. PPL:  64.077\n",
            "Epoch: 19 | Time: 1m 42s\n",
            "\tTrain Loss: 1.533 | Train PPL:   4.631\n",
            "\t Val. Loss: 4.169 |  Val. PPL:  64.662\n"
          ],
          "name": "stdout"
        }
      ]
    },
    {
      "cell_type": "code",
      "metadata": {
        "id": "MXFkRwUoFJm1"
      },
      "source": [
        ""
      ],
      "execution_count": null,
      "outputs": []
    }
  ]
}