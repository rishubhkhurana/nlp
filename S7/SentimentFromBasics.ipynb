{
  "nbformat": 4,
  "nbformat_minor": 0,
  "metadata": {
    "colab": {
      "name": "SentimentFromBasics.ipynb",
      "provenance": [],
      "collapsed_sections": [
        "rL1vByi1cXJC",
        "fLxvf2lXdZrA",
        "Mmc4QM4Pt6VC",
        "6m8-sG76u5XM",
        "dfDIugoNwHWB",
        "a0tEaKTx2z36"
      ],
      "mount_file_id": "1aPmwDS5bZzPkCqbR1Igtk0DI-97X4Vbd",
      "authorship_tag": "ABX9TyMCv2T8wFG53cPlYREb0QFN",
      "include_colab_link": true
    },
    "kernelspec": {
      "name": "python3",
      "display_name": "Python 3"
    },
    "accelerator": "GPU"
  },
  "cells": [
    {
      "cell_type": "markdown",
      "metadata": {
        "id": "view-in-github",
        "colab_type": "text"
      },
      "source": [
        "<a href=\"https://colab.research.google.com/github/rishubhkhurana/nlp/blob/main/S7/SentimentFromBasics.ipynb\" target=\"_parent\"><img src=\"https://colab.research.google.com/assets/colab-badge.svg\" alt=\"Open In Colab\"/></a>"
      ]
    },
    {
      "cell_type": "markdown",
      "metadata": {
        "id": "rL1vByi1cXJC"
      },
      "source": [
        "## Book Keeping"
      ]
    },
    {
      "cell_type": "code",
      "metadata": {
        "colab": {
          "base_uri": "https://localhost:8080/"
        },
        "id": "6gJmHeOa8hfe",
        "outputId": "24b45494-d7c7-481c-9ad6-94c2f318c1ec"
      },
      "source": [
        "#!pip install GPUtil\n",
        "#!pip install google-trans-new\n",
        "#!wget http://nlp.stanford.edu/~socherr/stanfordSentimentTreebank.zip\n",
        "#!unzip stanfordSentimentTreebank.zip"
      ],
      "execution_count": 1,
      "outputs": [
        {
          "output_type": "stream",
          "text": [
            "Collecting GPUtil\n",
            "  Downloading https://files.pythonhosted.org/packages/ed/0e/5c61eedde9f6c87713e89d794f01e378cfd9565847d4576fa627d758c554/GPUtil-1.4.0.tar.gz\n",
            "Building wheels for collected packages: GPUtil\n",
            "  Building wheel for GPUtil (setup.py) ... \u001b[?25l\u001b[?25hdone\n",
            "  Created wheel for GPUtil: filename=GPUtil-1.4.0-cp36-none-any.whl size=7412 sha256=2e22faf802b78ef5b7ba89220f1141bf0010cd81aa36eb936815fa292a837ef5\n",
            "  Stored in directory: /root/.cache/pip/wheels/3d/77/07/80562de4bb0786e5ea186911a2c831fdd0018bda69beab71fd\n",
            "Successfully built GPUtil\n",
            "Installing collected packages: GPUtil\n",
            "Successfully installed GPUtil-1.4.0\n"
          ],
          "name": "stdout"
        }
      ]
    },
    {
      "cell_type": "markdown",
      "metadata": {
        "id": "fLxvf2lXdZrA"
      },
      "source": [
        "## Importing Libs"
      ]
    },
    {
      "cell_type": "code",
      "metadata": {
        "id": "8Cho-KVmAQPp"
      },
      "source": [
        "%load_ext autoreload\n",
        "%autoreload 2\n",
        "%matplotlib inline"
      ],
      "execution_count": 7,
      "outputs": []
    },
    {
      "cell_type": "code",
      "metadata": {
        "id": "uEXxdlyrdhrp"
      },
      "source": [
        "import torch\n",
        "import torch.nn as nn\n",
        "import torch.nn.functional as F\n",
        "import torch.optim as optim\n",
        "import pandas as pd\n",
        "import numpy as np\n",
        "import torchtext\n",
        "from torchtext.data import Field, LabelField, Example\n",
        "from torchtext.data import BucketIterator, Dataset\n",
        "import random\n",
        "import matplotlib.pyplot as plt\n",
        "import google_trans_new\n",
        "from google_trans_new import google_translator"
      ],
      "execution_count": 8,
      "outputs": []
    },
    {
      "cell_type": "code",
      "metadata": {
        "id": "7UhPzyVV784T"
      },
      "source": [
        "import sys,os\n",
        "sys.path.append('/content/drive/MyDrive')"
      ],
      "execution_count": 9,
      "outputs": []
    },
    {
      "cell_type": "code",
      "metadata": {
        "id": "meCbKXKp8CWb"
      },
      "source": [
        "#from Text import *\n",
        "#from Text.text import *"
      ],
      "execution_count": 10,
      "outputs": []
    },
    {
      "cell_type": "markdown",
      "metadata": {
        "id": "Mmc4QM4Pt6VC"
      },
      "source": [
        "## Set SEEDS"
      ]
    },
    {
      "cell_type": "code",
      "metadata": {
        "id": "YRA90JZIt7-_"
      },
      "source": [
        "SEED = 1234\n",
        "torch.manual_seed(SEED)\n",
        "torch.set_deterministic(True)\n",
        "np.random.seed(SEED)"
      ],
      "execution_count": 11,
      "outputs": []
    },
    {
      "cell_type": "markdown",
      "metadata": {
        "id": "RzUZgiTReT9Y"
      },
      "source": [
        "## Reading Data"
      ]
    },
    {
      "cell_type": "code",
      "metadata": {
        "id": "iywzASbZ_QSQ"
      },
      "source": [
        "phrases_data = pd.read_csv('stanfordSentimentTreebank/dictionary.txt',sep='|',header=None).sort_values(by=1).rename(columns={0:'phrase',1:'id'})\n",
        "label_data = pd.read_csv('stanfordSentimentTreebank/sentiment_labels.txt',sep='|').rename(columns={'sentiment values':'sentiment'}).rename(columns={'phrase ids':'id'})\n",
        "assert phrases_data.shape[0] == label_data.shape[0]  \n",
        "joined_data = pd.merge(phrases_data,label_data,on='id')"
      ],
      "execution_count": 12,
      "outputs": []
    },
    {
      "cell_type": "code",
      "metadata": {
        "colab": {
          "base_uri": "https://localhost:8080/",
          "height": 197
        },
        "id": "7Sl5_5rmNiY2",
        "outputId": "31b274a6-4532-455c-defd-858e89b3ed61"
      },
      "source": [
        "joined_data.head()"
      ],
      "execution_count": 13,
      "outputs": [
        {
          "output_type": "execute_result",
          "data": {
            "text/html": [
              "<div>\n",
              "<style scoped>\n",
              "    .dataframe tbody tr th:only-of-type {\n",
              "        vertical-align: middle;\n",
              "    }\n",
              "\n",
              "    .dataframe tbody tr th {\n",
              "        vertical-align: top;\n",
              "    }\n",
              "\n",
              "    .dataframe thead th {\n",
              "        text-align: right;\n",
              "    }\n",
              "</style>\n",
              "<table border=\"1\" class=\"dataframe\">\n",
              "  <thead>\n",
              "    <tr style=\"text-align: right;\">\n",
              "      <th></th>\n",
              "      <th>phrase</th>\n",
              "      <th>id</th>\n",
              "      <th>sentiment</th>\n",
              "    </tr>\n",
              "  </thead>\n",
              "  <tbody>\n",
              "    <tr>\n",
              "      <th>0</th>\n",
              "      <td>!</td>\n",
              "      <td>0</td>\n",
              "      <td>0.50000</td>\n",
              "    </tr>\n",
              "    <tr>\n",
              "      <th>1</th>\n",
              "      <td>'</td>\n",
              "      <td>1</td>\n",
              "      <td>0.50000</td>\n",
              "    </tr>\n",
              "    <tr>\n",
              "      <th>2</th>\n",
              "      <td>' (</td>\n",
              "      <td>2</td>\n",
              "      <td>0.44444</td>\n",
              "    </tr>\n",
              "    <tr>\n",
              "      <th>3</th>\n",
              "      <td>' ( the cockettes</td>\n",
              "      <td>3</td>\n",
              "      <td>0.50000</td>\n",
              "    </tr>\n",
              "    <tr>\n",
              "      <th>4</th>\n",
              "      <td>' ( the cockettes )</td>\n",
              "      <td>4</td>\n",
              "      <td>0.42708</td>\n",
              "    </tr>\n",
              "  </tbody>\n",
              "</table>\n",
              "</div>"
            ],
            "text/plain": [
              "                phrase  id  sentiment\n",
              "0                    !   0    0.50000\n",
              "1                    '   1    0.50000\n",
              "2                  ' (   2    0.44444\n",
              "3    ' ( the cockettes   3    0.50000\n",
              "4  ' ( the cockettes )   4    0.42708"
            ]
          },
          "metadata": {
            "tags": []
          },
          "execution_count": 13
        }
      ]
    },
    {
      "cell_type": "code",
      "metadata": {
        "id": "OgI3hOwJOpNY"
      },
      "source": [
        "label_dict = dict(zip(joined_data['phrase'],joined_data['sentiment']))"
      ],
      "execution_count": 14,
      "outputs": []
    },
    {
      "cell_type": "code",
      "metadata": {
        "colab": {
          "base_uri": "https://localhost:8080/",
          "height": 36
        },
        "id": "GFJHJU5lM8Ub",
        "outputId": "0569716e-44da-4b9c-907a-ca6b1566a2a1"
      },
      "source": [
        "labels = []\n",
        "with open('stanfordSentimentTreebank/SOStr.txt','r') as f:\n",
        "    count=0\n",
        "    for line in progress_bar(f.readlines()):\n",
        "        temp = line.strip().split('|')\n",
        "        value = [label_dict.get(c) for c in temp]\n",
        "        labels.append(value)"
      ],
      "execution_count": 15,
      "outputs": [
        {
          "output_type": "display_data",
          "data": {
            "text/html": [
              "\n",
              "    <div>\n",
              "        <style>\n",
              "            /* Turns off some styling */\n",
              "            progress {\n",
              "                /* gets rid of default border in Firefox and Opera. */\n",
              "                border: none;\n",
              "                /* Needs to be in here for Safari polyfill so background images work as expected. */\n",
              "                background-size: auto;\n",
              "            }\n",
              "            .progress-bar-interrupted, .progress-bar-interrupted::-webkit-progress-bar {\n",
              "                background: #F44336;\n",
              "            }\n",
              "        </style>\n",
              "      <progress value='11855' class='' max='11855' style='width:300px; height:20px; vertical-align: middle;'></progress>\n",
              "      100.00% [11855/11855 00:00<00:00]\n",
              "    </div>\n",
              "    "
            ],
            "text/plain": [
              "<IPython.core.display.HTML object>"
            ]
          },
          "metadata": {
            "tags": []
          }
        }
      ]
    },
    {
      "cell_type": "code",
      "metadata": {
        "id": "bWE8OLC5_hOu"
      },
      "source": [
        "text_data = pd.read_csv('stanfordSentimentTreebank/datasetSentences.txt',sep='\\t')\n",
        "text_data['label'] = labels"
      ],
      "execution_count": 16,
      "outputs": []
    },
    {
      "cell_type": "code",
      "metadata": {
        "id": "C91tz8vbQMq6"
      },
      "source": [
        "text_data['label'] = text_data['label'].apply(lambda x: np.ceil(25*np.mean(x))).astype('int')"
      ],
      "execution_count": 17,
      "outputs": []
    },
    {
      "cell_type": "code",
      "metadata": {
        "id": "vzSrEQWbcIM2"
      },
      "source": [
        "datasplit = pd.read_csv('stanfordSentimentTreebank/datasetSplit.txt')"
      ],
      "execution_count": 19,
      "outputs": []
    },
    {
      "cell_type": "code",
      "metadata": {
        "id": "pXgqNFhqcgTW"
      },
      "source": [
        "text_data['split'] = datasplit['splitset_label']"
      ],
      "execution_count": 20,
      "outputs": []
    },
    {
      "cell_type": "code",
      "metadata": {
        "id": "F7UZAOxjcNyX"
      },
      "source": [
        "train_data = text_data[text_data['split']==1]\n",
        "valid_data = text_data[text_data['split']!=1]"
      ],
      "execution_count": 21,
      "outputs": []
    },
    {
      "cell_type": "markdown",
      "metadata": {
        "id": "-qiD2UFZlli-"
      },
      "source": [
        "## Creating Dataset"
      ]
    },
    {
      "cell_type": "code",
      "metadata": {
        "id": "1M8xwwIDlmyS"
      },
      "source": [
        "## Defining Fields\n",
        "TEXT = Field(tokenize='spacy',include_lengths=True,batch_first=True,lower=True)\n",
        "LABEL = LabelField(tokenize='spacy',batch_first=True,is_target=True)"
      ],
      "execution_count": 22,
      "outputs": []
    },
    {
      "cell_type": "code",
      "metadata": {
        "id": "wmAMtdBumK8d"
      },
      "source": [
        "fields = [('text',TEXT),('label',LABEL)]\n",
        "train_examples = [Example.fromlist([train_data.sentence.iloc[i],train_data.label.iloc[i]],fields) for i in range(train_data.shape[0])]\n",
        "valid_examples = [Example.fromlist([valid_data.sentence.iloc[i],valid_data.label.iloc[i]],fields) for i in range(valid_data.shape[0])]"
      ],
      "execution_count": 23,
      "outputs": []
    },
    {
      "cell_type": "code",
      "metadata": {
        "colab": {
          "base_uri": "https://localhost:8080/"
        },
        "id": "8ndY46KHsKM4",
        "outputId": "72fb7b5e-a6f5-4f19-c561-1a4724015bbb"
      },
      "source": [
        "' '.join(vars(train_examples[0])['text']),vars(train_examples[0])['label']"
      ],
      "execution_count": 24,
      "outputs": [
        {
          "output_type": "execute_result",
          "data": {
            "text/plain": [
              "(\"the rock is destined to be the 21st century 's new ` ` conan '' and that he 's going to make a splash even greater than arnold schwarzenegger , jean - claud van damme or steven segal .\",\n",
              " 13)"
            ]
          },
          "metadata": {
            "tags": []
          },
          "execution_count": 24
        }
      ]
    },
    {
      "cell_type": "code",
      "metadata": {
        "id": "A1EgDgd4tUQ9"
      },
      "source": [
        "train_dset = Dataset(train_examples,fields)\n",
        "valid_dset = Dataset(valid_examples,fields)"
      ],
      "execution_count": 25,
      "outputs": []
    },
    {
      "cell_type": "code",
      "metadata": {
        "colab": {
          "base_uri": "https://localhost:8080/"
        },
        "id": "IrfU_ohGtk72",
        "outputId": "53e2d1af-4ab1-46fe-b659-f813c36e2c29"
      },
      "source": [
        "len(train_dset),len(valid_dset)"
      ],
      "execution_count": 26,
      "outputs": [
        {
          "output_type": "execute_result",
          "data": {
            "text/plain": [
              "(8544, 3311)"
            ]
          },
          "metadata": {
            "tags": []
          },
          "execution_count": 26
        }
      ]
    },
    {
      "cell_type": "code",
      "metadata": {
        "id": "R3H-iwx5tl6u"
      },
      "source": [
        "#train_dset,valid_dset = dset.split(split_ratio=[0.85,0.15],random_state=random.seed(SEED))"
      ],
      "execution_count": 27,
      "outputs": []
    },
    {
      "cell_type": "code",
      "metadata": {
        "id": "z8K5nqjHtooG"
      },
      "source": [
        "#len(train_dset),len(valid_dset)"
      ],
      "execution_count": 28,
      "outputs": []
    },
    {
      "cell_type": "markdown",
      "metadata": {
        "id": "D8TM3pwhaAj8"
      },
      "source": [
        "## Augmentations"
      ]
    },
    {
      "cell_type": "code",
      "metadata": {
        "id": "R3L4k0_qaCRo"
      },
      "source": [
        "def random_deletion(words, p=0.5): \n",
        "    if len(words) == 1: # return if single word\n",
        "        return words\n",
        "    remaining = list(filter(lambda x: random.uniform(0,1) > p,words)) \n",
        "    if len(remaining) == 0: # if not left, sample a random word\n",
        "        return [random.choice(words)] \n",
        "    else:\n",
        "        return remaining"
      ],
      "execution_count": 29,
      "outputs": []
    },
    {
      "cell_type": "code",
      "metadata": {
        "id": "yVR8Nvw4lqSF"
      },
      "source": [
        "def random_swap(sentence, n=5): \n",
        "    length = range(len(sentence)) \n",
        "    for _ in range(n):\n",
        "        idx1, idx2 = random.sample(length, 2)\n",
        "        sentence[idx1], sentence[idx2] = sentence[idx2], sentence[idx1] \n",
        "    return sentence"
      ],
      "execution_count": 30,
      "outputs": []
    },
    {
      "cell_type": "code",
      "metadata": {
        "id": "lpUjwTZPa5Yd"
      },
      "source": [
        "# add random deletions\n",
        "aug_data = pd.DataFrame()\n",
        "for i,row in train_data.iterrows():\n",
        "    row['sentence'] = ' '.join(random_deletion(row['sentence'].split(), p=0.2))\n",
        "    label = row['label']\n",
        "    aug_data = aug_data.append(row).reset_index(drop=True)\n",
        "for i,row in train_data.iterrows():\n",
        "    row['sentence'] = ' '.join(random_swap(row['sentence'].split()))\n",
        "    label = row['label']\n",
        "    aug_data = aug_data.append(row).reset_index(drop=True)"
      ],
      "execution_count": 31,
      "outputs": []
    },
    {
      "cell_type": "code",
      "metadata": {
        "id": "Lqe66WgNaWqL"
      },
      "source": [
        "aug_data = train_data.append(aug_data).reset_index(drop=True)"
      ],
      "execution_count": 32,
      "outputs": []
    },
    {
      "cell_type": "code",
      "metadata": {
        "colab": {
          "base_uri": "https://localhost:8080/"
        },
        "id": "awJjfymAa33P",
        "outputId": "660a02c4-1120-4aab-faab-21ddf30e7e0f"
      },
      "source": [
        "aug_data.shape"
      ],
      "execution_count": 33,
      "outputs": [
        {
          "output_type": "execute_result",
          "data": {
            "text/plain": [
              "(25632, 4)"
            ]
          },
          "metadata": {
            "tags": []
          },
          "execution_count": 33
        }
      ]
    },
    {
      "cell_type": "markdown",
      "metadata": {
        "id": "6m8-sG76u5XM"
      },
      "source": [
        "## Building Vocab"
      ]
    },
    {
      "cell_type": "code",
      "metadata": {
        "id": "ZgMsMnvMu7Da"
      },
      "source": [
        "TEXT.build_vocab(train_dset)\n",
        "LABEL.build_vocab(train_dset)"
      ],
      "execution_count": 34,
      "outputs": []
    },
    {
      "cell_type": "code",
      "metadata": {
        "colab": {
          "base_uri": "https://localhost:8080/"
        },
        "id": "4ROjO8jGvE7c",
        "outputId": "f57620e1-9fbb-43b4-fa9d-2480071dcb40"
      },
      "source": [
        "len(TEXT.vocab),len(LABEL.vocab)"
      ],
      "execution_count": 35,
      "outputs": [
        {
          "output_type": "execute_result",
          "data": {
            "text/plain": [
              "(15491, 14)"
            ]
          },
          "metadata": {
            "tags": []
          },
          "execution_count": 35
        }
      ]
    },
    {
      "cell_type": "markdown",
      "metadata": {
        "id": "dfDIugoNwHWB"
      },
      "source": [
        "## DataLoader"
      ]
    },
    {
      "cell_type": "code",
      "metadata": {
        "id": "nqQxMAOo2KHf"
      },
      "source": [
        "device =  torch.device('cuda') if torch.cuda.is_available() else torch.device('cpu')"
      ],
      "execution_count": 36,
      "outputs": []
    },
    {
      "cell_type": "code",
      "metadata": {
        "id": "y5Qg2yoMwJU3"
      },
      "source": [
        "train_dl,valid_dl = BucketIterator.splits([train_dset,valid_dset],batch_size=32,sort_key = lambda x: len(x.text), sort_within_batch=True,device=device)"
      ],
      "execution_count": 37,
      "outputs": []
    },
    {
      "cell_type": "code",
      "metadata": {
        "colab": {
          "base_uri": "https://localhost:8080/"
        },
        "id": "fHY5hqZl2j-4",
        "outputId": "46ad9b57-41bf-497f-bfe7-ac954eb45f24"
      },
      "source": [
        "len(train_dl),len(valid_dl)"
      ],
      "execution_count": 38,
      "outputs": [
        {
          "output_type": "execute_result",
          "data": {
            "text/plain": [
              "(267, 104)"
            ]
          },
          "metadata": {
            "tags": []
          },
          "execution_count": 38
        }
      ]
    },
    {
      "cell_type": "code",
      "metadata": {
        "id": "ntUErQwo2md4"
      },
      "source": [
        "batch = next(iter(train_dl))"
      ],
      "execution_count": 39,
      "outputs": []
    },
    {
      "cell_type": "code",
      "metadata": {
        "colab": {
          "base_uri": "https://localhost:8080/"
        },
        "id": "m6Jf5O6H2pWw",
        "outputId": "b1b72ec2-27ed-4dc6-92e5-507a2e95c417"
      },
      "source": [
        "len(batch.text),len(batch.label)"
      ],
      "execution_count": 40,
      "outputs": [
        {
          "output_type": "execute_result",
          "data": {
            "text/plain": [
              "(2, 32)"
            ]
          },
          "metadata": {
            "tags": []
          },
          "execution_count": 40
        }
      ]
    },
    {
      "cell_type": "markdown",
      "metadata": {
        "id": "a0tEaKTx2z36"
      },
      "source": [
        "## Model"
      ]
    },
    {
      "cell_type": "code",
      "metadata": {
        "id": "jcQq5YFI20eB"
      },
      "source": [
        "class SentClassifier(nn.Module):\n",
        "    def __init__(self,embed_dims=300, hidden_size=100,num_layers=2,vocab_size=len(TEXT.vocab),num_outs=25,bidirectional=True,dropout=0):\n",
        "        super().__init__()\n",
        "        self.embedder = nn.Embedding(vocab_size,embed_dims)\n",
        "        self.rnn = nn.LSTM(embed_dims,hidden_size,num_layers=num_layers,batch_first=True,bidirectional=bidirectional,dropout=dropout)\n",
        "        self.dropout  = nn.Dropout(dropout)\n",
        "        self.classifier = nn.Linear(2*hidden_size if bidirectional else hidden_size,num_outs)\n",
        "        self.bidirectional = bidirectional\n",
        "        self.num_layers = num_layers\n",
        "    def forward(self,text,text_lengths):\n",
        "        # text: [B,SeqL]\n",
        "        embedded_text = self.embedder(text)\n",
        "        # [B.SeqL,embed_dims]\n",
        "        packed = nn.utils.rnn.pack_padded_sequence(embedded_text,text_lengths.cpu(),batch_first=True)\n",
        "        packed_out,(h,c) = self.rnn(packed)\n",
        "        # packed_out : [sum(seq_len),hidden_dims*2 if bidir else hidden_dims]\n",
        "        # h: [num_layers*directions,B,hidden_dims]\n",
        "        #print(h.shape,c.shape)\n",
        "        if self.bidirectional:\n",
        "            h = h[-2:,...]\n",
        "            h = torch.cat([h[-2,...],h[-1,...]],dim=-1)\n",
        "        else:\n",
        "            h = h[-1,...]\n",
        "        h = self.dropout(h)\n",
        "        out = self.classifier(h)\n",
        "        return out\n"
      ],
      "execution_count": 41,
      "outputs": []
    },
    {
      "cell_type": "code",
      "metadata": {
        "id": "Qo7RTMMr4aWP"
      },
      "source": [
        "model = SentClassifier(bidirectional=True)"
      ],
      "execution_count": 34,
      "outputs": []
    },
    {
      "cell_type": "markdown",
      "metadata": {
        "id": "Y4QpwgZw63W_"
      },
      "source": [
        "## Training"
      ]
    },
    {
      "cell_type": "code",
      "metadata": {
        "id": "ZXo35TO_-VeM"
      },
      "source": [
        "model_params={}\n",
        "model_params['dropout']=0.2\n",
        "model_params['vocab_size']=len(TEXT.vocab)\n",
        "model_params['embed_dims']=100\n",
        "model_params['num_layers']=2\n",
        "model_params['bidirectional']=True\n",
        "model_params['hidden_size']=100\n",
        "model_params['num_outs']=25\n",
        "EPOCHS=20"
      ],
      "execution_count": 42,
      "outputs": []
    },
    {
      "cell_type": "code",
      "metadata": {
        "id": "kB_1P6Tp64xU"
      },
      "source": [
        "model = SentClassifier(**model_params).to(device)\n",
        "opt = optim.Adam(model.parameters(),lr=5e-4)\n",
        "criterion = nn.CrossEntropyLoss()\n",
        "#criterion = nn.BCEWithLogitsLoss()\n",
        "\n",
        "dls = {'train':train_dl,'valid':valid_dl}\n",
        "metric_func = Accuracy()"
      ],
      "execution_count": 43,
      "outputs": []
    },
    {
      "cell_type": "code",
      "metadata": {
        "colab": {
          "base_uri": "https://localhost:8080/"
        },
        "id": "UKZCp9hnZYa-",
        "outputId": "30f8ee1e-b8ac-41fa-bb17-25e3c5b35481"
      },
      "source": [
        "model"
      ],
      "execution_count": 60,
      "outputs": [
        {
          "output_type": "execute_result",
          "data": {
            "text/plain": [
              "SentClassifier(\n",
              "  (embedder): Embedding(16805, 100)\n",
              "  (rnn): LSTM(100, 100, num_layers=2, batch_first=True, dropout=0.2, bidirectional=True)\n",
              "  (dropout): Dropout(p=0.2, inplace=False)\n",
              "  (classifier): Linear(in_features=200, out_features=25, bias=True)\n",
              ")"
            ]
          },
          "metadata": {
            "tags": []
          },
          "execution_count": 60
        }
      ]
    },
    {
      "cell_type": "code",
      "metadata": {
        "id": "ohLUO2oh8YKb"
      },
      "source": [
        "#trainRecorder, valRecorder = trainModel(model,opt,criterion,dls,NEpochs=10,device=device,metric_func=metric_func,print_utils=False)"
      ],
      "execution_count": 109,
      "outputs": []
    },
    {
      "cell_type": "code",
      "metadata": {
        "id": "_sR074vsHs7N"
      },
      "source": [
        "# define metric\n",
        "def binary_accuracy(preds, y):\n",
        "    #round predictions to the closest integer\n",
        "    _, predictions = torch.max(preds, 1)\n",
        "    \n",
        "    correct = (predictions == y).float() \n",
        "    acc = correct.sum() / len(correct)\n",
        "    return acc"
      ],
      "execution_count": 44,
      "outputs": []
    },
    {
      "cell_type": "code",
      "metadata": {
        "id": "V-tadWMbG8vF"
      },
      "source": [
        "def train(model, iterator, optimizer, criterion):\n",
        "    \n",
        "    # initialize every epoch \n",
        "    epoch_loss = 0\n",
        "    epoch_acc = 0\n",
        "    \n",
        "    # set the model in training phase\n",
        "    model.train()  \n",
        "    \n",
        "    for batch in iterator:\n",
        "        \n",
        "        # resets the gradients after every batch\n",
        "        optimizer.zero_grad()   \n",
        "        \n",
        "        # retrieve text and no. of words\n",
        "        tweet, tweet_lengths = batch.text   \n",
        "        \n",
        "        # convert to 1D tensor\n",
        "        predictions = model(tweet, tweet_lengths).squeeze()  \n",
        "        \n",
        "        # compute the loss\n",
        "        loss = criterion(predictions, batch.label)        \n",
        "        \n",
        "        # compute the binary accuracy\n",
        "        acc = binary_accuracy(predictions, batch.label)   \n",
        "        \n",
        "        # backpropage the loss and compute the gradients\n",
        "        loss.backward()       \n",
        "        \n",
        "        # update the weights\n",
        "        optimizer.step()      \n",
        "        \n",
        "        # loss and accuracy\n",
        "        epoch_loss += loss.item()  \n",
        "        epoch_acc += acc.item()    \n",
        "        \n",
        "    return epoch_loss / len(iterator), epoch_acc / len(iterator)"
      ],
      "execution_count": 45,
      "outputs": []
    },
    {
      "cell_type": "code",
      "metadata": {
        "id": "7LwpxNHpHQtI"
      },
      "source": [
        "def evaluate(model, iterator, criterion):\n",
        "    \n",
        "    # initialize every epoch\n",
        "    epoch_loss = 0\n",
        "    epoch_acc = 0\n",
        "\n",
        "    # deactivating dropout layers\n",
        "    model.eval()\n",
        "    \n",
        "    # deactivates autograd\n",
        "    with torch.no_grad():\n",
        "    \n",
        "        for batch in iterator:\n",
        "        \n",
        "            # retrieve text and no. of words\n",
        "            tweet, tweet_lengths = batch.text\n",
        "            \n",
        "            # convert to 1d tensor\n",
        "            predictions = model(tweet, tweet_lengths).squeeze()\n",
        "            \n",
        "            # compute loss and accuracy\n",
        "            loss = criterion(predictions, batch.label)\n",
        "            acc = binary_accuracy(predictions, batch.label)\n",
        "            \n",
        "            # keep track of loss and accuracy\n",
        "            epoch_loss += loss.item()\n",
        "            epoch_acc += acc.item()\n",
        "        \n",
        "    return epoch_loss / len(iterator), epoch_acc / len(iterator)"
      ],
      "execution_count": 46,
      "outputs": []
    },
    {
      "cell_type": "code",
      "metadata": {
        "colab": {
          "base_uri": "https://localhost:8080/"
        },
        "id": "pl2bH8unHSbq",
        "outputId": "4b66254d-449e-475e-bcc5-114a7495dc11"
      },
      "source": [
        "N_EPOCHS = 20\n",
        "best_valid_loss = float('inf')\n",
        "\n",
        "for epoch in range(N_EPOCHS):\n",
        "     \n",
        "    # train the model\n",
        "    train_loss, train_acc = train(model, train_dl, opt, criterion)\n",
        "    \n",
        "    # evaluate the model\n",
        "    valid_loss, valid_acc = evaluate(model, valid_dl, criterion)\n",
        "    \n",
        "    # save the best model\n",
        "    if valid_loss < best_valid_loss:\n",
        "        best_valid_loss = valid_loss\n",
        "        torch.save(model.state_dict(), 'saved_weights.pt')\n",
        "    \n",
        "    print(f'\\tTrain Loss: {train_loss:.3f} | Train Acc: {train_acc*100:.2f}%')\n",
        "    print(f'\\t Val. Loss: {valid_loss:.3f} |  Val. Acc: {valid_acc*100:.2f}% \\n')"
      ],
      "execution_count": 47,
      "outputs": [
        {
          "output_type": "stream",
          "text": [
            "\tTrain Loss: 1.266 | Train Acc: 54.74%\n",
            "\t Val. Loss: 1.046 |  Val. Acc: 56.24% \n",
            "\n",
            "\tTrain Loss: 1.049 | Train Acc: 55.95%\n",
            "\t Val. Loss: 1.024 |  Val. Acc: 56.36% \n",
            "\n",
            "\tTrain Loss: 0.992 | Train Acc: 59.42%\n",
            "\t Val. Loss: 0.992 |  Val. Acc: 58.79% \n",
            "\n",
            "\tTrain Loss: 0.881 | Train Acc: 64.62%\n",
            "\t Val. Loss: 0.969 |  Val. Acc: 59.70% \n",
            "\n",
            "\tTrain Loss: 0.726 | Train Acc: 71.96%\n",
            "\t Val. Loss: 0.986 |  Val. Acc: 59.85% \n",
            "\n",
            "\tTrain Loss: 0.564 | Train Acc: 79.20%\n",
            "\t Val. Loss: 1.058 |  Val. Acc: 60.45% \n",
            "\n",
            "\tTrain Loss: 0.417 | Train Acc: 85.28%\n",
            "\t Val. Loss: 1.099 |  Val. Acc: 60.08% \n",
            "\n",
            "\tTrain Loss: 0.292 | Train Acc: 90.16%\n",
            "\t Val. Loss: 1.283 |  Val. Acc: 59.94% \n",
            "\n",
            "\tTrain Loss: 0.210 | Train Acc: 93.16%\n",
            "\t Val. Loss: 1.424 |  Val. Acc: 58.74% \n",
            "\n",
            "\tTrain Loss: 0.145 | Train Acc: 95.42%\n",
            "\t Val. Loss: 1.635 |  Val. Acc: 61.14% \n",
            "\n",
            "\tTrain Loss: 0.094 | Train Acc: 97.39%\n",
            "\t Val. Loss: 1.838 |  Val. Acc: 59.39% \n",
            "\n",
            "\tTrain Loss: 0.080 | Train Acc: 97.47%\n",
            "\t Val. Loss: 1.947 |  Val. Acc: 56.84% \n",
            "\n",
            "\tTrain Loss: 0.072 | Train Acc: 97.88%\n",
            "\t Val. Loss: 2.008 |  Val. Acc: 59.87% \n",
            "\n",
            "\tTrain Loss: 0.066 | Train Acc: 97.88%\n",
            "\t Val. Loss: 1.931 |  Val. Acc: 60.66% \n",
            "\n",
            "\tTrain Loss: 0.036 | Train Acc: 99.04%\n",
            "\t Val. Loss: 2.286 |  Val. Acc: 59.48% \n",
            "\n",
            "\tTrain Loss: 0.028 | Train Acc: 99.36%\n",
            "\t Val. Loss: 2.331 |  Val. Acc: 59.06% \n",
            "\n",
            "\tTrain Loss: 0.054 | Train Acc: 98.34%\n",
            "\t Val. Loss: 2.147 |  Val. Acc: 58.85% \n",
            "\n",
            "\tTrain Loss: 0.029 | Train Acc: 99.26%\n",
            "\t Val. Loss: 2.245 |  Val. Acc: 62.38% \n",
            "\n",
            "\tTrain Loss: 0.026 | Train Acc: 99.29%\n",
            "\t Val. Loss: 2.569 |  Val. Acc: 59.49% \n",
            "\n",
            "\tTrain Loss: 0.037 | Train Acc: 98.97%\n",
            "\t Val. Loss: 2.388 |  Val. Acc: 59.42% \n",
            "\n"
          ],
          "name": "stdout"
        }
      ]
    },
    {
      "cell_type": "markdown",
      "metadata": {
        "id": "lLK9wAJPPv0n"
      },
      "source": [
        "## Augmented Training"
      ]
    },
    {
      "cell_type": "code",
      "metadata": {
        "id": "a4DS5bUbqYyy"
      },
      "source": [
        "## Defining Fields\n",
        "TEXT = Field(tokenize='spacy',include_lengths=True,batch_first=True,lower=True)\n",
        "LABEL = LabelField(tokenize='spacy',batch_first=True,is_target=True)"
      ],
      "execution_count": 48,
      "outputs": []
    },
    {
      "cell_type": "code",
      "metadata": {
        "id": "ZBaWIRN_hS2_"
      },
      "source": [
        "fields = [('text',TEXT),('label',LABEL)]\n",
        "train_examples = [Example.fromlist([aug_data.sentence.iloc[i],aug_data.label.iloc[i]],fields) for i in range(aug_data.shape[0])]\n",
        "valid_examples = [Example.fromlist([valid_data.sentence.iloc[i],valid_data.label.iloc[i]],fields) for i in range(valid_data.shape[0])]"
      ],
      "execution_count": 49,
      "outputs": []
    },
    {
      "cell_type": "code",
      "metadata": {
        "id": "LW5H1UDnjdK4"
      },
      "source": [
        "train_dset = Dataset(train_examples,fields)\n",
        "valid_dset = Dataset(valid_examples,fields)"
      ],
      "execution_count": 50,
      "outputs": []
    },
    {
      "cell_type": "code",
      "metadata": {
        "id": "tRrF-cYVoH7p"
      },
      "source": [
        "TEXT.build_vocab(train_dset)\n",
        "LABEL.build_vocab(train_dset)"
      ],
      "execution_count": 51,
      "outputs": []
    },
    {
      "cell_type": "code",
      "metadata": {
        "colab": {
          "base_uri": "https://localhost:8080/"
        },
        "id": "hCMhKxloZn3E",
        "outputId": "5ddce5d2-5629-465d-dcdc-75fe156c32ce"
      },
      "source": [
        "len(TEXT.vocab)"
      ],
      "execution_count": 52,
      "outputs": [
        {
          "output_type": "execute_result",
          "data": {
            "text/plain": [
              "15491"
            ]
          },
          "metadata": {
            "tags": []
          },
          "execution_count": 52
        }
      ]
    },
    {
      "cell_type": "code",
      "metadata": {
        "id": "pI-AgJ1AoJ2q"
      },
      "source": [
        "train_dl,valid_dl = BucketIterator.splits([train_dset,valid_dset],batch_size=32,sort_key = lambda x: len(x.text), sort_within_batch=True,device='cuda')"
      ],
      "execution_count": 53,
      "outputs": []
    },
    {
      "cell_type": "code",
      "metadata": {
        "id": "Tmst0i8joQIk"
      },
      "source": [
        "model_params={}\n",
        "model_params['dropout']=0.2\n",
        "model_params['vocab_size']=len(TEXT.vocab)\n",
        "model_params['embed_dims']=100\n",
        "model_params['num_layers']=2\n",
        "model_params['bidirectional']=True\n",
        "model_params['hidden_size']=100\n",
        "model_params['num_outs']=25\n",
        "EPOCHS=20"
      ],
      "execution_count": 54,
      "outputs": []
    },
    {
      "cell_type": "code",
      "metadata": {
        "id": "jyeZskLZoScS"
      },
      "source": [
        "model = SentClassifier(**model_params).to(device)\n",
        "opt = optim.Adam(model.parameters(),lr=5e-4)\n",
        "criterion = nn.CrossEntropyLoss()\n",
        "dls = {'train':train_dl,'valid':valid_dl}\n",
        "metric_func = Accuracy()"
      ],
      "execution_count": 56,
      "outputs": []
    },
    {
      "cell_type": "code",
      "metadata": {
        "colab": {
          "base_uri": "https://localhost:8080/"
        },
        "id": "j8dAJTB0ZQyh",
        "outputId": "ae895812-e38a-4d39-b36e-b2513ce2deb0"
      },
      "source": [
        "model"
      ],
      "execution_count": 57,
      "outputs": [
        {
          "output_type": "execute_result",
          "data": {
            "text/plain": [
              "SentClassifier(\n",
              "  (embedder): Embedding(15491, 100)\n",
              "  (rnn): LSTM(100, 100, num_layers=2, batch_first=True, dropout=0.2, bidirectional=True)\n",
              "  (dropout): Dropout(p=0.2, inplace=False)\n",
              "  (classifier): Linear(in_features=200, out_features=25, bias=True)\n",
              ")"
            ]
          },
          "metadata": {
            "tags": []
          },
          "execution_count": 57
        }
      ]
    },
    {
      "cell_type": "code",
      "metadata": {
        "colab": {
          "base_uri": "https://localhost:8080/"
        },
        "id": "gUscB0jroUzM",
        "outputId": "a7ff7f11-2770-4b3d-a1f3-3cd7a555dd58"
      },
      "source": [
        "N_EPOCHS = 20\n",
        "best_valid_loss = float('inf')\n",
        "\n",
        "for epoch in range(N_EPOCHS):\n",
        "     \n",
        "    # train the model\n",
        "    train_loss, train_acc = train(model, train_dl, opt, criterion)\n",
        "    \n",
        "    # evaluate the model\n",
        "    valid_loss, valid_acc = evaluate(model, valid_dl, criterion)\n",
        "    \n",
        "    # save the best model\n",
        "    if valid_loss < best_valid_loss:\n",
        "        best_valid_loss = valid_loss\n",
        "        torch.save(model.state_dict(), 'saved_weights.pt')\n",
        "    \n",
        "    print(f'\\tTrain Loss: {train_loss:.3f} | Train Acc: {train_acc*100:.2f}%')\n",
        "    print(f'\\t Val. Loss: {valid_loss:.3f} |  Val. Acc: {valid_acc*100:.2f}% \\n')"
      ],
      "execution_count": 58,
      "outputs": [
        {
          "output_type": "stream",
          "text": [
            "\tTrain Loss: 1.118 | Train Acc: 56.56%\n",
            "\t Val. Loss: 0.993 |  Val. Acc: 58.83% \n",
            "\n",
            "\tTrain Loss: 0.828 | Train Acc: 67.25%\n",
            "\t Val. Loss: 0.904 |  Val. Acc: 62.20% \n",
            "\n",
            "\tTrain Loss: 0.534 | Train Acc: 79.79%\n",
            "\t Val. Loss: 0.956 |  Val. Acc: 65.02% \n",
            "\n",
            "\tTrain Loss: 0.314 | Train Acc: 88.75%\n",
            "\t Val. Loss: 1.120 |  Val. Acc: 65.68% \n",
            "\n",
            "\tTrain Loss: 0.181 | Train Acc: 93.82%\n",
            "\t Val. Loss: 1.483 |  Val. Acc: 62.91% \n",
            "\n",
            "\tTrain Loss: 0.108 | Train Acc: 96.26%\n",
            "\t Val. Loss: 1.631 |  Val. Acc: 64.36% \n",
            "\n",
            "\tTrain Loss: 0.083 | Train Acc: 97.18%\n",
            "\t Val. Loss: 1.855 |  Val. Acc: 65.14% \n",
            "\n",
            "\tTrain Loss: 0.058 | Train Acc: 98.14%\n",
            "\t Val. Loss: 1.991 |  Val. Acc: 64.33% \n",
            "\n",
            "\tTrain Loss: 0.044 | Train Acc: 98.67%\n",
            "\t Val. Loss: 2.032 |  Val. Acc: 65.05% \n",
            "\n",
            "\tTrain Loss: 0.035 | Train Acc: 98.81%\n",
            "\t Val. Loss: 2.259 |  Val. Acc: 65.59% \n",
            "\n",
            "\tTrain Loss: 0.031 | Train Acc: 99.04%\n",
            "\t Val. Loss: 2.530 |  Val. Acc: 64.54% \n",
            "\n",
            "\tTrain Loss: 0.029 | Train Acc: 99.03%\n",
            "\t Val. Loss: 2.429 |  Val. Acc: 64.54% \n",
            "\n",
            "\tTrain Loss: 0.023 | Train Acc: 99.25%\n",
            "\t Val. Loss: 2.454 |  Val. Acc: 64.93% \n",
            "\n",
            "\tTrain Loss: 0.018 | Train Acc: 99.47%\n",
            "\t Val. Loss: 2.585 |  Val. Acc: 64.72% \n",
            "\n",
            "\tTrain Loss: 0.022 | Train Acc: 99.31%\n",
            "\t Val. Loss: 2.575 |  Val. Acc: 65.41% \n",
            "\n",
            "\tTrain Loss: 0.019 | Train Acc: 99.43%\n",
            "\t Val. Loss: 2.724 |  Val. Acc: 64.96% \n",
            "\n",
            "\tTrain Loss: 0.013 | Train Acc: 99.58%\n",
            "\t Val. Loss: 2.921 |  Val. Acc: 64.48% \n",
            "\n",
            "\tTrain Loss: 0.017 | Train Acc: 99.40%\n",
            "\t Val. Loss: 2.918 |  Val. Acc: 64.75% \n",
            "\n",
            "\tTrain Loss: 0.014 | Train Acc: 99.55%\n",
            "\t Val. Loss: 2.784 |  Val. Acc: 65.83% \n",
            "\n",
            "\tTrain Loss: 0.015 | Train Acc: 99.48%\n",
            "\t Val. Loss: 2.788 |  Val. Acc: 65.62% \n",
            "\n"
          ],
          "name": "stdout"
        }
      ]
    },
    {
      "cell_type": "code",
      "metadata": {
        "id": "B49duYf3oW2K"
      },
      "source": [
        ""
      ],
      "execution_count": null,
      "outputs": []
    }
  ]
}