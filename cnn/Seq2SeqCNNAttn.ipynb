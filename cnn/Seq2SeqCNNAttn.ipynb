{
  "nbformat": 4,
  "nbformat_minor": 0,
  "metadata": {
    "colab": {
      "name": "Seq2SeqCNNAttn.ipynb",
      "provenance": [],
      "authorship_tag": "ABX9TyON86gKKoNO9fa5o4wEaHLE",
      "include_colab_link": true
    },
    "kernelspec": {
      "display_name": "Python 3",
      "name": "python3"
    },
    "accelerator": "GPU"
  },
  "cells": [
    {
      "cell_type": "markdown",
      "metadata": {
        "id": "view-in-github",
        "colab_type": "text"
      },
      "source": [
        "<a href=\"https://colab.research.google.com/github/rishubhkhurana/nlp/blob/main/cnn/Seq2SeqCNNAttn.ipynb\" target=\"_parent\"><img src=\"https://colab.research.google.com/assets/colab-badge.svg\" alt=\"Open In Colab\"/></a>"
      ]
    },
    {
      "cell_type": "markdown",
      "metadata": {
        "id": "ADUMBPPbbS-Y"
      },
      "source": [
        "## Book Keeping"
      ]
    },
    {
      "cell_type": "code",
      "metadata": {
        "id": "D2BEuGrPbWtM"
      },
      "source": [
        "!python -m spacy download en > /dev/null 2>&1\n",
        "!python -m spacy download de > /dev/null 2>&1"
      ],
      "execution_count": 1,
      "outputs": []
    },
    {
      "cell_type": "markdown",
      "metadata": {
        "id": "h0TKUzbDbuRO"
      },
      "source": [
        "## Importing Libs"
      ]
    },
    {
      "cell_type": "code",
      "metadata": {
        "id": "B_FBsh5Sbvjs"
      },
      "source": [
        "import torch\n",
        "import torch.nn as nn\n",
        "import torch.nn.functional as F\n",
        "import torch.optim as optim\n",
        "import numpy as np\n",
        "import pandas as pd\n",
        "import matplotlib.pyplot as plt\n",
        "import spacy\n",
        "from torchtext.data import Field\n",
        "from torchtext.datasets import Multi30k\n",
        "import torchtext\n",
        "import random, time, math\n",
        "from torchtext.data import BucketIterator\n",
        "import matplotlib.ticker as ticker"
      ],
      "execution_count": 48,
      "outputs": []
    },
    {
      "cell_type": "markdown",
      "metadata": {
        "id": "YqXv33jCgHRY"
      },
      "source": [
        "## SEED everything"
      ]
    },
    {
      "cell_type": "code",
      "metadata": {
        "id": "JJGy08AwgJG7"
      },
      "source": [
        "SEED = 1234\n",
        "random.seed(SEED)\n",
        "np.random.seed(SEED)\n",
        "torch.manual_seed(SEED)\n",
        "torch.cuda.manual_seed(SEED)\n",
        "torch.backends.cudnn.deterministic = True"
      ],
      "execution_count": 3,
      "outputs": []
    },
    {
      "cell_type": "markdown",
      "metadata": {
        "id": "6tug0ZGLb9dh"
      },
      "source": [
        "## Dataset/ Dataloader"
      ]
    },
    {
      "cell_type": "code",
      "metadata": {
        "id": "WTnJr9vMcZsv"
      },
      "source": [
        "spacy_en = spacy.load('en')\n",
        "spacy_de = spacy.load('de')"
      ],
      "execution_count": 4,
      "outputs": []
    },
    {
      "cell_type": "code",
      "metadata": {
        "id": "LXuDbCA1ce1s"
      },
      "source": [
        "def tokenize_src(text):\n",
        "    return [tok.text for tok in spacy_de.tokenizer(text)]\n",
        "def tokenize_trg(text):\n",
        "    return [tok.text for tok in spacy_en.tokenizer(text)]"
      ],
      "execution_count": 5,
      "outputs": []
    },
    {
      "cell_type": "code",
      "metadata": {
        "id": "SIX0742Zb_Yw"
      },
      "source": [
        "SRC = Field(tokenize = tokenize_src, init_token = '<sos>', \n",
        "            eos_token = '<eos>', lower = True,\n",
        "            batch_first = True)\n",
        "TRG = Field(tokenize = tokenize_trg, init_token = '<sos>',\n",
        "            eos_token = '<eos>', lower = True, batch_first = True)"
      ],
      "execution_count": 6,
      "outputs": []
    },
    {
      "cell_type": "code",
      "metadata": {
        "id": "ql1fR_uGc_Wf",
        "colab": {
          "base_uri": "https://localhost:8080/"
        },
        "outputId": "75786f8a-dcb4-4daa-fd0d-a0384b77d372"
      },
      "source": [
        "train_data, valid_data, test_data = Multi30k.splits(fields = (SRC, TRG), exts = ('.de', '.en'))"
      ],
      "execution_count": 7,
      "outputs": [
        {
          "output_type": "stream",
          "text": [
            "downloading training.tar.gz\n"
          ],
          "name": "stdout"
        },
        {
          "output_type": "stream",
          "text": [
            "training.tar.gz: 100%|██████████| 1.21M/1.21M [00:02<00:00, 542kB/s]\n"
          ],
          "name": "stderr"
        },
        {
          "output_type": "stream",
          "text": [
            "downloading validation.tar.gz\n"
          ],
          "name": "stdout"
        },
        {
          "output_type": "stream",
          "text": [
            "validation.tar.gz: 100%|██████████| 46.3k/46.3k [00:00<00:00, 165kB/s]\n"
          ],
          "name": "stderr"
        },
        {
          "output_type": "stream",
          "text": [
            "downloading mmt_task1_test2016.tar.gz\n"
          ],
          "name": "stdout"
        },
        {
          "output_type": "stream",
          "text": [
            "mmt_task1_test2016.tar.gz: 100%|██████████| 66.2k/66.2k [00:00<00:00, 162kB/s]\n"
          ],
          "name": "stderr"
        }
      ]
    },
    {
      "cell_type": "code",
      "metadata": {
        "colab": {
          "base_uri": "https://localhost:8080/"
        },
        "id": "z_0U-GvNdZiP",
        "outputId": "53ffe9f3-8dc3-447c-864f-732a9c0addd6"
      },
      "source": [
        "\n",
        "len(train_data), len(valid_data), len(test_data)"
      ],
      "execution_count": 8,
      "outputs": [
        {
          "output_type": "execute_result",
          "data": {
            "text/plain": [
              "(29000, 1014, 1000)"
            ]
          },
          "metadata": {
            "tags": []
          },
          "execution_count": 8
        }
      ]
    },
    {
      "cell_type": "code",
      "metadata": {
        "id": "oNqNIIi_dqkx"
      },
      "source": [
        "SRC.build_vocab(train_data, min_freq = 2)\n",
        "TRG.build_vocab(train_data, min_freq = 2)"
      ],
      "execution_count": 9,
      "outputs": []
    },
    {
      "cell_type": "code",
      "metadata": {
        "id": "ydfQfbstqX2U"
      },
      "source": [
        "device = 'cuda' if torch.cuda.is_available() else 'cpu'"
      ],
      "execution_count": 22,
      "outputs": []
    },
    {
      "cell_type": "code",
      "metadata": {
        "id": "1lgAvNjLcUuX"
      },
      "source": [
        "train_iterator, valid_iterator, test_iterator = BucketIterator.splits((train_data, valid_data, test_data), batch_size = 128, device = device)"
      ],
      "execution_count": 23,
      "outputs": []
    },
    {
      "cell_type": "markdown",
      "metadata": {
        "id": "wUW6ZciLeNPl"
      },
      "source": [
        "## Model"
      ]
    },
    {
      "cell_type": "code",
      "metadata": {
        "id": "PaTgqDWxen78"
      },
      "source": [
        "class CNNEncoder(nn.Module):\n",
        "    \"\"\"\n",
        "    Class to encode the source language word sequence. \n",
        "    src words --> word embedding + position embedding --> linear layer --> CNN layers --> linear layer --> encoded\n",
        "    \"\"\"\n",
        "    def __init__(self, \n",
        "                 vocab_size,\n",
        "                 embed_dims,\n",
        "                 hidden_dims,\n",
        "                 ncnn_layers,\n",
        "                 max_length = 100,\n",
        "                 kernel_size = 3,\n",
        "                 dropout = 0.1,\n",
        "                 device = 'cuda'\n",
        "                 ):\n",
        "        super().__init__()\n",
        "        # store all required variables\n",
        "        self.embed_dims = embed_dims\n",
        "        self.hidden_dims = hidden_dims\n",
        "        self.device = device\n",
        "        # define a scale variable which would be used when we add two latent variables\n",
        "        self.scale = torch.sqrt(torch.tensor([0.5])).float().to(device)\n",
        "        # add the token embedding \n",
        "        self.token_embedder = nn.Embedding(vocab_size, embed_dims)\n",
        "        # add position embedding, max length here refers to the source text's largest sequence length\n",
        "        self.position_embedder = nn.Embedding(max_length, embed_dims)\n",
        "        # add projection layer from embedding to hidden dims for conv layers\n",
        "        self.embed2hidden = nn.Linear(embed_dims, hidden_dims)\n",
        "        # add projection layer back from hidden to embedding after conv layers\n",
        "        self.hidden2embed = nn.Linear(hidden_dims, embed_dims)\n",
        "        # add the conv layers \n",
        "        # for conv layers, hidden dims are the number of input channels and we need to add 2*hidden dims \n",
        "        # we apply GLU activation by dividing the 2*hidden dims\n",
        "        # create an empy list to hold modules\n",
        "        self.convlayers = nn.ModuleList()\n",
        "        for _ in range(ncnn_layers):\n",
        "            self.convlayers.append(nn.Conv1d(in_channels = hidden_dims, \n",
        "                                             out_channels = 2*hidden_dims,\n",
        "                                             kernel_size = kernel_size, \n",
        "                                             stride = 1,\n",
        "                                             padding = kernel_size//2))\n",
        "        self.dropout = nn.Dropout(dropout)\n",
        "        \n",
        "\n",
        "    def forward(self, src):\n",
        "        # get the src seq length\n",
        "        # src: [Batch size, src length]\n",
        "        srclen = src.shape[1]\n",
        "        bs = src.shape[0]\n",
        "        # pass through the embedding layers\n",
        "        tok_embedded = self.dropout(self.token_embedder(src))\n",
        "        # tok_embedded : [batch size, src length, embed dims]\n",
        "        # pass through the position layers\n",
        "        positions = torch.arange(srclen).long().unsqueeze(0).repeat(bs, 1).to(self.device)\n",
        "        # positions: [bs, srclen]\n",
        "        pos_embedded = self.dropout(self.position_embedder(positions))\n",
        "        # pos_embedded: [bs, srclen, embed_dims]\n",
        "        # add the embeddings\n",
        "        combined_embedded = (pos_embedded+tok_embedded)\n",
        "        # combined_embedded: [bs, srclen, embed_dims]\n",
        "        # pass through the porjection layer prior to conv layers\n",
        "        conv_input = self.embed2hidden(combined_embedded)\n",
        "        # conv_input: [batch size, src length, hidden_dims]\n",
        "        # for conv layer, we need hidden dims as input channels and in pytorch, channels appear before the length/spatial dimen sions\n",
        "        conv_input = conv_input.permute(0, 2, 1)\n",
        "        # pass the conv input through the conv layers one by one\n",
        "        for clayer in self.convlayers:\n",
        "            conv_output = clayer(conv_input)\n",
        "            # conv_output: [batch size, 2*hidden dims, srclen]\n",
        "            conv_output = F.glu(conv_output, dim = 1)\n",
        "            # conv_output: [batch size, hidden_dims, srclen]\n",
        "            conv_output = self.dropout(conv_output)\n",
        "            # add residual connection \n",
        "            conv_output = (conv_output + conv_input)*self.scale\n",
        "            # store conv_output as conv input for next layer\n",
        "            conv_input = conv_output\n",
        "        # permute the dimensions\n",
        "        conv_output = conv_output.permute(0, 2, 1)\n",
        "        # conv_output: [batch size, srclen, hidden dims]\n",
        "        # pass the conv output through projection layer for conv output\n",
        "        conv_output = self.hidden2embed(conv_output)\n",
        "        # conv_output: [batch size, srclen, embed dims]\n",
        "        # add the original combined embedding as residual connection to conv output\n",
        "        combined = (combined_embedded + conv_output)*self.scale\n",
        "        \n",
        "        return combined, conv_output\n",
        "\n",
        "            \n"
      ],
      "execution_count": 29,
      "outputs": []
    },
    {
      "cell_type": "code",
      "metadata": {
        "id": "gUKolMIctP5f"
      },
      "source": [
        "class CNNDecoderWithAttention(nn.Module):\n",
        "\n",
        "    def __init__(self,\n",
        "                 vocab_size,\n",
        "                 embed_dims,\n",
        "                 hidden_dims,\n",
        "                 ncnn_layers,\n",
        "                 pad_idx,\n",
        "                 max_length=100,\n",
        "                 kernel_size = 3,\n",
        "                 dropout = 0.1,\n",
        "                 device = 'cuda'\n",
        "                 ):\n",
        "        super().__init__()\n",
        "        # store the variables\n",
        "        self.kernel_size = kernel_size\n",
        "        self.scale = torch.sqrt(torch.tensor([0.5])).float().to(device)\n",
        "        self.embed_dims = embed_dims\n",
        "        self.hidden_dims = hidden_dims\n",
        "        self.pad_idx = pad_idx\n",
        "        self.device = device\n",
        "        # add the embedding layer for token\n",
        "        self.tok_embedder = nn.Embedding(vocab_size, embed_dims)\n",
        "        # add the embedding layer for positions\n",
        "        self.pos_embedder = nn.Embedding(max_length, embed_dims)\n",
        "        # add a projection layer before cnn layers\n",
        "        self.embed2hidden = nn.Linear(embed_dims, hidden_dims)\n",
        "        # add a projection layer for cnn output \n",
        "        self.hidden2embed = nn.Linear(hidden_dims, embed_dims)\n",
        "        # add an output layer \n",
        "        self.outlayer = nn.Linear(embed_dims, vocab_size)\n",
        "        # create an empty module list for cnn layers\n",
        "        self.convlayers = nn.ModuleList()\n",
        "        # add specified number of cnnlayers\n",
        "        for _ in range(ncnn_layers):\n",
        "            self.convlayers.append(nn.Conv1d(in_channels = hidden_dims,\n",
        "                                        out_channels = 2*hidden_dims, \n",
        "                                        kernel_size = kernel_size,\n",
        "                                        padding = 0))\n",
        "        # add dropout layer\n",
        "        self.dropout = nn.Dropout(dropout)\n",
        "        # add attention projection layers\n",
        "        self.attnhid2embed = nn.Linear(hidden_dims, embed_dims)\n",
        "        self.attnembed2hid = nn.Linear(embed_dims, hidden_dims)\n",
        "\n",
        "\n",
        "    def get_attention(self, combined_embedding, conv_output, encoder_conv_output, encoder_combined):\n",
        "        # encoder_conv_output: [batch size, srclen, embed_dims]\n",
        "        # encoder_combined: [batch size, srclen, embed_dims]\n",
        "        # combined_embedding: [batch size, trglen, embed_dims]\n",
        "        # conv_output: [batch size, hidden_dims, trglen]\n",
        "        # assumption --> embed_dims for encoder are same as embed_dims for decoder\n",
        "        # project the conv_output to embed dims\n",
        "        conv_attention = self.attnhid2embed(conv_output.permute(0, 2, 1))\n",
        "\n",
        "        # add the target embedding to conv_attention\n",
        "        combined_attention = (combined_embedding + conv_attention)*self.scale\n",
        "\n",
        "        # compute the attention raw scores with encoder \n",
        "        attention_energy = torch.matmul(combined_attention, encoder_conv_output.permute(0, 2, 1))\n",
        "        # attention_energy: [bs, trglen, srclen]\n",
        "\n",
        "        # apply softmax to get the attention probabilities\n",
        "        attention = F.softmax(attention_energy, dim = 2)\n",
        "\n",
        "        # multy the attention probabilties with encoder combined to get then attention value vector \n",
        "        attention_values = torch.matmul(attention, encoder_combined)\n",
        "        # project the attention values back to hidden dims\n",
        "        # attention_values: [bs, trglen, embed_dims]\n",
        "        attention_values = self.attnembed2hid(attention_values).permute(0, 2, 1)\n",
        "        # attention_values: [bs, hidden_dims, trglen]\n",
        "\n",
        "        attention_combined = (conv_output + attention_values)*self.scale\n",
        "        # attention_combined: [bs, trglen, hidden_dims]\n",
        "\n",
        "        return attention, attention_combined\n",
        "    \n",
        "    def forward(self, trg, encoder_combined, encoder_conv_output):\n",
        "\n",
        "        # trg: [bs, trglen]\n",
        "        trglen = trg.shape[1]\n",
        "        bs = trg.shape[0]\n",
        "\n",
        "        # get the token embedding\n",
        "        tok_embedding = self.dropout(self.tok_embedder(trg))\n",
        "        # get position embedding\n",
        "        positions = torch.arange(trglen).long().unsqueeze(0).repeat(bs, 1).to(self.device)\n",
        "\n",
        "        pos_embedding = self.dropout(self.pos_embedder(positions))\n",
        "        # combined embedding\n",
        "        combined_embedding = tok_embedding + pos_embedding \n",
        "        # combined_embedding: [bs, trglen, embed_dims]\n",
        "\n",
        "        # project the embedding before passing through conv layers\n",
        "        conv_input = self.embed2hidden(combined_embedding)\n",
        "        # conv_input: [bs, trglen, hidden_dims]\n",
        "        conv_input = conv_input.permute(0, 2, 1)\n",
        "        # conv_input: [bs, hidden_dims, trglen]\n",
        "\n",
        "        # pass through conv layers\n",
        "        for clayer in self.convlayers:\n",
        "            padding = torch.zeros(bs, self.hidden_dims, self.kernel_size-1).fill_(self.pad_idx).to(self.device)\n",
        "            padded_conv_input = torch.cat([padding, conv_input], dim = 2)\n",
        "            # padded_conv_input: [bs, hidden_dims, trglen+self.kernel_size-1]\n",
        "            conv_output = clayer(padded_conv_input)\n",
        "            # conv_output: [bs, 2*hidden_dims, trglen]\n",
        "            conv_output = F.glu(conv_output, dim = 1)\n",
        "            # conv_output: [bs, hidden_dims, trglen]\n",
        "            attention, conv_output = self.get_attention(combined_embedding, conv_output, encoder_combined, encoder_conv_output)\n",
        "            # attention: [bs, trglen, srclen]\n",
        "            # conv_output: [bs, hidden_dims, trglen]\n",
        "            conv_output = (conv_input + conv_output)*self.scale\n",
        "            conv_input = conv_output\n",
        "        \n",
        "        # conv_output: [bs, hidden_dims, trglen]\n",
        "        conv_output = conv_output.permute(0, 2, 1)\n",
        "        # conv_output: [bs, trglen, hidden_dims]\n",
        "        # pass through the re-projection layer\n",
        "        conv_output = self.hidden2embed(conv_output)\n",
        "        # conv_output: [bs, trglen, embed_dims]\n",
        "\n",
        "        # compute the output raw scores \n",
        "        classifier_output = self.outlayer(conv_output)\n",
        "        # classifier_output: [bs, trglen, vocab_size]\n",
        "\n",
        "        return classifier_output, attention"
      ],
      "execution_count": 30,
      "outputs": []
    },
    {
      "cell_type": "code",
      "metadata": {
        "id": "23_d5Z1kUxV_"
      },
      "source": [
        "class CNNSeq2Seq(nn.Module):\n",
        "    def __init__(self, encoder, decoder):\n",
        "        super().__init__()\n",
        "        # register encoder\n",
        "        self.encoder = encoder\n",
        "        # register decoder\n",
        "        self.decoder = decoder\n",
        "    \n",
        "    def forward(self, src, trg):\n",
        "        # src: [bs, srclen]\n",
        "        # trg: [bs, trglen]\n",
        "        encoder_combined, encoder_conv_output = self.encoder(src)\n",
        "        # encoder_combined: [bs, srclen, embed_dims]\n",
        "        # encoder_conv_output: [bs, srclen, embed_dims]\n",
        "        output, attention = self.decoder(trg, encoder_combined, encoder_conv_output)\n",
        "        return output, attention"
      ],
      "execution_count": 31,
      "outputs": []
    },
    {
      "cell_type": "markdown",
      "metadata": {
        "id": "10_kFjjnWW0j"
      },
      "source": [
        "## Training Model"
      ]
    },
    {
      "cell_type": "code",
      "metadata": {
        "id": "brUZYdwIa1dd"
      },
      "source": [
        "device = 'cuda' if torch.cuda.is_available() else 'cpu'"
      ],
      "execution_count": 32,
      "outputs": []
    },
    {
      "cell_type": "code",
      "metadata": {
        "id": "OyKF8gCLWYxl"
      },
      "source": [
        "\n",
        "\n",
        "INPUT_DIM = len(SRC.vocab)\n",
        "OUTPUT_DIM = len(TRG.vocab)\n",
        "EMB_DIM = 256\n",
        "HID_DIM = 512 # each conv. layer has 2 * hid_dim filters\n",
        "ENC_LAYERS = 10 # number of conv. blocks in encoder\n",
        "DEC_LAYERS = 10 # number of conv. blocks in decoder\n",
        "ENC_DROPOUT = 0.25\n",
        "DEC_DROPOUT = 0.25\n",
        "TRG_PAD_IDX = TRG.vocab.stoi[TRG.pad_token]\n",
        "\n",
        " \n",
        "enc = CNNEncoder(INPUT_DIM, EMB_DIM, HID_DIM, ENC_LAYERS, dropout = ENC_DROPOUT, device = device, max_length = 500)\n",
        "dec = CNNDecoderWithAttention(OUTPUT_DIM, EMB_DIM, HID_DIM, DEC_LAYERS, dropout = DEC_DROPOUT, pad_idx = TRG_PAD_IDX, device = device, max_length = 500)\n",
        "\n",
        "model = CNNSeq2Seq(enc, dec).to(device)"
      ],
      "execution_count": 33,
      "outputs": []
    },
    {
      "cell_type": "code",
      "metadata": {
        "id": "P1hwtYlSauFH"
      },
      "source": [
        "\n",
        "\n",
        "\n",
        "\n",
        "#model"
      ],
      "execution_count": 34,
      "outputs": []
    },
    {
      "cell_type": "code",
      "metadata": {
        "colab": {
          "base_uri": "https://localhost:8080/"
        },
        "id": "I9JAhDLKb2mH",
        "outputId": "94545a7f-4cc1-4c41-d7b4-74b1de437069"
      },
      "source": [
        "\n",
        "def count_parameters(model):\n",
        "    return sum(p.numel() for p in model.parameters() if p.requires_grad)\n",
        "\n",
        "print(f'The model has {count_parameters(model):,} trainable parameters')"
      ],
      "execution_count": 35,
      "outputs": [
        {
          "output_type": "stream",
          "text": [
            "The model has 37,556,485 trainable parameters\n"
          ],
          "name": "stdout"
        }
      ]
    },
    {
      "cell_type": "code",
      "metadata": {
        "id": "1-69qEKSb6De"
      },
      "source": [
        "optimizer = optim.Adam(model.parameters())\n",
        "criterion = nn.CrossEntropyLoss(ignore_index = TRG_PAD_IDX)"
      ],
      "execution_count": 36,
      "outputs": []
    },
    {
      "cell_type": "code",
      "metadata": {
        "id": "We1MaJzYb8t-"
      },
      "source": [
        "def train(model, iterator, optimizer, criterion, clip):\n",
        "    \n",
        "    model.train()\n",
        "    \n",
        "    epoch_loss = 0\n",
        "    \n",
        "    for i, batch in enumerate(iterator):\n",
        "        #print(i)\n",
        "        src = batch.src\n",
        "        trg = batch.trg\n",
        "        \n",
        "        optimizer.zero_grad()\n",
        "        output, _ = model(src, trg[:,:-1])\n",
        "        \n",
        "        #output = [batch size, trg len - 1, output dim]\n",
        "        #trg = [batch size, trg len]\n",
        "        \n",
        "        output_dim = output.shape[-1]\n",
        "        \n",
        "        output = output.contiguous().view(-1, output_dim)\n",
        "        trg = trg[:,1:].contiguous().view(-1)\n",
        "        \n",
        "        #output = [batch size * trg len - 1, output dim]\n",
        "        #trg = [batch size * trg len - 1]\n",
        "        \n",
        "        loss = criterion(output, trg)\n",
        "        \n",
        "        loss.backward()\n",
        "        \n",
        "        torch.nn.utils.clip_grad_norm_(model.parameters(), clip)\n",
        "        \n",
        "        optimizer.step()\n",
        "        \n",
        "        epoch_loss += loss.item()\n",
        "        \n",
        "    return epoch_loss / len(iterator)"
      ],
      "execution_count": 37,
      "outputs": []
    },
    {
      "cell_type": "code",
      "metadata": {
        "id": "vHkcibddcACI"
      },
      "source": [
        "\n",
        "def evaluate(model, iterator, criterion):\n",
        "    \n",
        "    model.eval()\n",
        "    \n",
        "    epoch_loss = 0\n",
        "    \n",
        "    with torch.no_grad():\n",
        "    \n",
        "        for i, batch in enumerate(iterator):\n",
        "\n",
        "            src = batch.src\n",
        "            trg = batch.trg\n",
        "\n",
        "            output, _ = model(src, trg[:,:-1])\n",
        "        \n",
        "            #output = [batch size, trg len - 1, output dim]\n",
        "            #trg = [batch size, trg len]\n",
        "\n",
        "            output_dim = output.shape[-1]\n",
        "            \n",
        "            output = output.contiguous().view(-1, output_dim)\n",
        "            trg = trg[:,1:].contiguous().view(-1)\n",
        "\n",
        "            #output = [batch size * trg len - 1, output dim]\n",
        "            #trg = [batch size * trg len - 1]\n",
        "            \n",
        "            loss = criterion(output, trg)\n",
        "\n",
        "            epoch_loss += loss.item()\n",
        "        \n",
        "    return epoch_loss / len(iterator)"
      ],
      "execution_count": 38,
      "outputs": []
    },
    {
      "cell_type": "code",
      "metadata": {
        "id": "c8BI2E7qrZt7"
      },
      "source": [
        "def epoch_time(start_time, end_time):\n",
        "    elapsed_time = end_time - start_time\n",
        "    elapsed_mins = int(elapsed_time / 60)\n",
        "    elapsed_secs = int(elapsed_time - (elapsed_mins * 60))\n",
        "    return elapsed_mins, elapsed_secs"
      ],
      "execution_count": 40,
      "outputs": []
    },
    {
      "cell_type": "code",
      "metadata": {
        "colab": {
          "base_uri": "https://localhost:8080/",
          "height": 691
        },
        "id": "XynZ0wS9cEye",
        "outputId": "822f4a85-c269-4df9-ad5b-1bb4a15f1003"
      },
      "source": [
        "N_EPOCHS = 10\n",
        "CLIP = 0.1\n",
        "\n",
        "best_valid_loss = float('inf')\n",
        "\n",
        "for epoch in range(N_EPOCHS):\n",
        "    start_time = time.time()\n",
        "    \n",
        "    train_loss = train(model, train_iterator, optimizer, criterion, CLIP)\n",
        "    valid_loss = evaluate(model, valid_iterator, criterion)\n",
        "    \n",
        "    end_time = time.time()\n",
        "    \n",
        "    epoch_mins, epoch_secs = epoch_time(start_time, end_time)\n",
        "    \n",
        "    if valid_loss < best_valid_loss:\n",
        "        best_valid_loss = valid_loss\n",
        "        torch.save(model.state_dict(), 'tut5-model.pt')\n",
        "    \n",
        "    print(f'Epoch: {epoch+1:02} | Time: {epoch_mins}m {epoch_secs}s')\n",
        "    print(f'\\tTrain Loss: {train_loss} | Train PPL: {math.exp(train_loss)}')\n",
        "    print(f'\\t Val. Loss: {valid_loss} |  Val. PPL: {math.exp(valid_loss)}')"
      ],
      "execution_count": 41,
      "outputs": [
        {
          "output_type": "stream",
          "text": [
            "Epoch: 01 | Time: 1m 5s\n",
            "\tTrain Loss: 3.2635947261087694 | Train PPL: 26.143346602445767\n",
            "\t Val. Loss: 2.902229905128479 |  Val. PPL: 18.214717208271967\n",
            "Epoch: 02 | Time: 1m 4s\n",
            "\tTrain Loss: 2.9737417015210124 | Train PPL: 19.564989158227228\n",
            "\t Val. Loss: 2.8036914467811584 |  Val. PPL: 16.505463491269143\n",
            "Epoch: 03 | Time: 1m 4s\n",
            "\tTrain Loss: 2.818161757506988 | Train PPL: 16.746039080600234\n",
            "\t Val. Loss: 2.6884103417396545 |  Val. PPL: 14.708276193838868\n",
            "Epoch: 04 | Time: 1m 4s\n",
            "\tTrain Loss: 2.7161029550997697 | Train PPL: 15.121278969437183\n",
            "\t Val. Loss: 2.6530802249908447 |  Val. PPL: 14.197703483171423\n",
            "Epoch: 05 | Time: 1m 4s\n",
            "\tTrain Loss: 2.6431899438345483 | Train PPL: 14.057976313426328\n",
            "\t Val. Loss: 2.6159967482089996 |  Val. PPL: 13.68084594283426\n",
            "Epoch: 06 | Time: 1m 4s\n",
            "\tTrain Loss: 2.6200098623788306 | Train PPL: 13.735859052655448\n",
            "\t Val. Loss: 2.678875654935837 |  Val. PPL: 14.568703833655249\n",
            "Epoch: 07 | Time: 1m 4s\n",
            "\tTrain Loss: 2.609003849491674 | Train PPL: 13.585510895448998\n",
            "\t Val. Loss: 2.684527486562729 |  Val. PPL: 14.651276819247203\n",
            "Epoch: 08 | Time: 1m 4s\n",
            "\tTrain Loss: 2.628072339532659 | Train PPL: 13.847051744398236\n",
            "\t Val. Loss: 2.642772525548935 |  Val. PPL: 14.052109481601011\n",
            "Epoch: 09 | Time: 1m 4s\n",
            "\tTrain Loss: 2.6660859973420132 | Train PPL: 14.383561576791466\n",
            "\t Val. Loss: 2.789237380027771 |  Val. PPL: 16.268608304148852\n",
            "Epoch: 10 | Time: 1m 4s\n"
          ],
          "name": "stdout"
        },
        {
          "output_type": "error",
          "ename": "OverflowError",
          "evalue": "ignored",
          "traceback": [
            "\u001b[0;31m---------------------------------------------------------------------------\u001b[0m",
            "\u001b[0;31mOverflowError\u001b[0m                             Traceback (most recent call last)",
            "\u001b[0;32m<ipython-input-41-9148bf1e5d8b>\u001b[0m in \u001b[0;36m<module>\u001b[0;34m()\u001b[0m\n\u001b[1;32m     19\u001b[0m \u001b[0;34m\u001b[0m\u001b[0m\n\u001b[1;32m     20\u001b[0m     \u001b[0mprint\u001b[0m\u001b[0;34m(\u001b[0m\u001b[0;34mf'Epoch: {epoch+1:02} | Time: {epoch_mins}m {epoch_secs}s'\u001b[0m\u001b[0;34m)\u001b[0m\u001b[0;34m\u001b[0m\u001b[0;34m\u001b[0m\u001b[0m\n\u001b[0;32m---> 21\u001b[0;31m     \u001b[0mprint\u001b[0m\u001b[0;34m(\u001b[0m\u001b[0;34mf'\\tTrain Loss: {train_loss} | Train PPL: {math.exp(train_loss)}'\u001b[0m\u001b[0;34m)\u001b[0m\u001b[0;34m\u001b[0m\u001b[0;34m\u001b[0m\u001b[0m\n\u001b[0m\u001b[1;32m     22\u001b[0m     \u001b[0mprint\u001b[0m\u001b[0;34m(\u001b[0m\u001b[0;34mf'\\t Val. Loss: {valid_loss} |  Val. PPL: {math.exp(valid_loss)}'\u001b[0m\u001b[0;34m)\u001b[0m\u001b[0;34m\u001b[0m\u001b[0;34m\u001b[0m\u001b[0m\n",
            "\u001b[0;31mOverflowError\u001b[0m: math range error"
          ]
        }
      ]
    },
    {
      "cell_type": "code",
      "metadata": {
        "id": "6TM_AXB7cFQi",
        "colab": {
          "base_uri": "https://localhost:8080/"
        },
        "outputId": "931833b3-cbea-4f52-97e3-964e5c5e2fd2"
      },
      "source": [
        "model.load_state_dict(torch.load('tut5-model.pt'))\n",
        "\n",
        "test_loss = evaluate(model, test_iterator, criterion)\n",
        "\n",
        "print(f'| Test Loss: {test_loss:.3f} | Test PPL: {math.exp(test_loss):7.3f} |')"
      ],
      "execution_count": 42,
      "outputs": [
        {
          "output_type": "stream",
          "text": [
            "| Test Loss: 2.623 | Test PPL:  13.775 |\n"
          ],
          "name": "stdout"
        }
      ]
    },
    {
      "cell_type": "code",
      "metadata": {
        "id": "h4MXkujJqoCg"
      },
      "source": [
        "def translate_sentence(sentence, src_field, trg_field, model, device, max_len = 50):\n",
        "\n",
        "    model.eval()\n",
        "        \n",
        "    if isinstance(sentence, str):\n",
        "        nlp = spacy.load('de')\n",
        "        tokens = [token.text.lower() for token in nlp(sentence)]\n",
        "    else:\n",
        "        tokens = [token.lower() for token in sentence]\n",
        "\n",
        "    tokens = [src_field.init_token] + tokens + [src_field.eos_token]\n",
        "        \n",
        "    src_indexes = [src_field.vocab.stoi[token] for token in tokens]\n",
        "\n",
        "    src_tensor = torch.LongTensor(src_indexes).unsqueeze(0).to(device)\n",
        "\n",
        "    with torch.no_grad():\n",
        "        encoder_conved, encoder_combined = model.encoder(src_tensor)\n",
        "\n",
        "    trg_indexes = [trg_field.vocab.stoi[trg_field.init_token]]\n",
        "\n",
        "    for i in range(max_len):\n",
        "\n",
        "        trg_tensor = torch.LongTensor(trg_indexes).unsqueeze(0).to(device)\n",
        "\n",
        "        with torch.no_grad():\n",
        "            output, attention = model.decoder(trg_tensor, encoder_conved, encoder_combined)\n",
        "        \n",
        "        pred_token = output.argmax(2)[:,-1].item()\n",
        "        \n",
        "        trg_indexes.append(pred_token)\n",
        "\n",
        "        if pred_token == trg_field.vocab.stoi[trg_field.eos_token]:\n",
        "            break\n",
        "    \n",
        "    trg_tokens = [trg_field.vocab.itos[i] for i in trg_indexes]\n",
        "    \n",
        "    return trg_tokens[1:], attention"
      ],
      "execution_count": 43,
      "outputs": []
    },
    {
      "cell_type": "code",
      "metadata": {
        "id": "XnR1_eXfqo7M"
      },
      "source": [
        "def display_attention(sentence, translation, attention):\n",
        "    \n",
        "    fig = plt.figure(figsize=(10,10))\n",
        "    ax = fig.add_subplot(111)\n",
        "        \n",
        "    attention = attention.squeeze(0).cpu().detach().numpy()\n",
        "    \n",
        "    cax = ax.matshow(attention, cmap='bone')\n",
        "   \n",
        "    ax.tick_params(labelsize=15)\n",
        "    ax.set_xticklabels(['']+['<sos>']+[t.lower() for t in sentence]+['<eos>'], \n",
        "                       rotation=45)\n",
        "    ax.set_yticklabels(['']+translation)\n",
        "\n",
        "    ax.xaxis.set_major_locator(ticker.MultipleLocator(1))\n",
        "    ax.yaxis.set_major_locator(ticker.MultipleLocator(1))\n",
        "\n",
        "    plt.show()\n",
        "    plt.close()"
      ],
      "execution_count": 44,
      "outputs": []
    },
    {
      "cell_type": "code",
      "metadata": {
        "colab": {
          "base_uri": "https://localhost:8080/"
        },
        "id": "ZXehUJ4UqqTo",
        "outputId": "aaff3490-2ec5-447c-962d-2df41deef6ea"
      },
      "source": [
        "example_idx = 2\n",
        "\n",
        "src = vars(train_data.examples[example_idx])['src']\n",
        "trg = vars(train_data.examples[example_idx])['trg']\n",
        "\n",
        "print(f'src = {src}')\n",
        "print(f'trg = {trg}')"
      ],
      "execution_count": 45,
      "outputs": [
        {
          "output_type": "stream",
          "text": [
            "src = ['ein', 'kleines', 'mädchen', 'klettert', 'in', 'ein', 'spielhaus', 'aus', 'holz', '.']\n",
            "trg = ['a', 'little', 'girl', 'climbing', 'into', 'a', 'wooden', 'playhouse', '.']\n"
          ],
          "name": "stdout"
        }
      ]
    },
    {
      "cell_type": "code",
      "metadata": {
        "colab": {
          "base_uri": "https://localhost:8080/"
        },
        "id": "bD7aSKhDsOCH",
        "outputId": "2803004a-1c82-4b7f-fb89-63bc78e93d02"
      },
      "source": [
        "translation, attention = translate_sentence(src, SRC, TRG, model, device)\n",
        "\n",
        "print(f'predicted trg = {translation}')"
      ],
      "execution_count": 46,
      "outputs": [
        {
          "output_type": "stream",
          "text": [
            "predicted trg = ['a', 'young', 'girl', 'climbs', 'a', 'rock', 'into', 'a', 'small', 'bowl', '.', '<eos>']\n"
          ],
          "name": "stdout"
        }
      ]
    },
    {
      "cell_type": "code",
      "metadata": {
        "colab": {
          "base_uri": "https://localhost:8080/",
          "height": 646
        },
        "id": "XkXmXaoosR80",
        "outputId": "0ab9019d-4eb6-4b3d-a196-a949055e047c"
      },
      "source": [
        "display_attention(src, translation, attention)"
      ],
      "execution_count": 49,
      "outputs": [
        {
          "output_type": "display_data",
          "data": {
            "image/png": "[encoded data removed]",
            "text/plain": [
              "<Figure size 720x720 with 1 Axes>"
            ]
          },
          "metadata": {
            "tags": [],
            "needs_background": "light"
          }
        }
      ]
    },
    {
      "cell_type": "code",
      "metadata": {
        "colab": {
          "base_uri": "https://localhost:8080/"
        },
        "id": "S-8OiCBlsUtS",
        "outputId": "52db855f-2e44-4294-9274-77905549cc47"
      },
      "source": [
        "example_idx = 2\n",
        "\n",
        "src = vars(valid_data.examples[example_idx])['src']\n",
        "trg = vars(valid_data.examples[example_idx])['trg']\n",
        "\n",
        "print(f'src = {src}')\n",
        "print(f'trg = {trg}')"
      ],
      "execution_count": 50,
      "outputs": [
        {
          "output_type": "stream",
          "text": [
            "src = ['ein', 'junge', 'mit', 'kopfhörern', 'sitzt', 'auf', 'den', 'schultern', 'einer', 'frau', '.']\n",
            "trg = ['a', 'boy', 'wearing', 'headphones', 'sits', 'on', 'a', 'woman', \"'s\", 'shoulders', '.']\n"
          ],
          "name": "stdout"
        }
      ]
    },
    {
      "cell_type": "code",
      "metadata": {
        "colab": {
          "base_uri": "https://localhost:8080/"
        },
        "id": "mVfyKjMesXRF",
        "outputId": "2ab1fda6-ccae-42b4-de84-6fba5d05f0e6"
      },
      "source": [
        "translation, attention = translate_sentence(src, SRC, TRG, model, device)\n",
        "\n",
        "print(f'predicted trg = {translation}')"
      ],
      "execution_count": 51,
      "outputs": [
        {
          "output_type": "stream",
          "text": [
            "predicted trg = ['a', 'boy', 'wearing', 'jeans', 'is', 'sitting', 'on', 'a', 'cellphone', 'in', 'a', 'chair', '.', '<eos>']\n"
          ],
          "name": "stdout"
        }
      ]
    },
    {
      "cell_type": "code",
      "metadata": {
        "colab": {
          "base_uri": "https://localhost:8080/",
          "height": 654
        },
        "id": "qj4RP6DesbLs",
        "outputId": "ec58a106-52f4-44ff-f79b-f76e744ccbf8"
      },
      "source": [
        "display_attention(src, translation, attention)"
      ],
      "execution_count": 52,
      "outputs": [
        {
          "output_type": "display_data",
          "data": {
            "image/png": "[encoded data removed]",
            "text/plain": [
              "<Figure size 720x720 with 1 Axes>"
            ]
          },
          "metadata": {
            "tags": [],
            "needs_background": "light"
          }
        }
      ]
    },
    {
      "cell_type": "code",
      "metadata": {
        "id": "KDwMpOATu0Ox"
      },
      "source": [
        ""
      ],
      "execution_count": null,
      "outputs": []
    }
  ]
}